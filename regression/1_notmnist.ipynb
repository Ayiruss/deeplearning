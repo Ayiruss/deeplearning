{
 "cells": [
  {
   "cell_type": "code",
   "execution_count": 4,
   "metadata": {
    "collapsed": true
   },
   "outputs": [],
   "source": [
    "\n",
    "\n",
    "# These are all the modules we'll be using later. Make sure you can import them\n",
    "# before proceeding further.\n",
    "from __future__ import print_function\n",
    "import matplotlib.pyplot as plt\n",
    "import numpy as np\n",
    "import os\n",
    "import sys\n",
    "import tarfile\n",
    "from IPython.display import display, Image\n",
    "from scipy import ndimage\n",
    "from sklearn.linear_model import LogisticRegression\n",
    "from six.moves.urllib.request import urlretrieve\n",
    "from six.moves import cPickle as pickle\n",
    "\n",
    "# Config the matplotlib backend as plotting inline in IPython\n",
    "%matplotlib inline\n"
   ]
  },
  {
   "cell_type": "markdown",
   "metadata": {},
   "source": [
    "\n",
    "-"
   ]
  },
  {
   "cell_type": "code",
   "execution_count": 9,
   "metadata": {},
   "outputs": [
    {
     "name": "stdout",
     "output_type": "stream",
     "text": [
      "notMNIST_large already present - Skipping extraction of notMNIST_large.tar.gz.\n",
      "['notMNIST_large/A', 'notMNIST_large/B', 'notMNIST_large/C', 'notMNIST_large/D', 'notMNIST_large/E', 'notMNIST_large/F', 'notMNIST_large/G', 'notMNIST_large/H', 'notMNIST_large/I', 'notMNIST_large/J']\n",
      "notMNIST_small already present - Skipping extraction of notMNIST_small.tar.gz.\n",
      "['notMNIST_small/A', 'notMNIST_small/B', 'notMNIST_small/C', 'notMNIST_small/D', 'notMNIST_small/E', 'notMNIST_small/F', 'notMNIST_small/G', 'notMNIST_small/H', 'notMNIST_small/I', 'notMNIST_small/J']\n"
     ]
    },
    {
     "data": {
      "text/plain": [
       "['notMNIST_small/A',\n",
       " 'notMNIST_small/B',\n",
       " 'notMNIST_small/C',\n",
       " 'notMNIST_small/D',\n",
       " 'notMNIST_small/E',\n",
       " 'notMNIST_small/F',\n",
       " 'notMNIST_small/G',\n",
       " 'notMNIST_small/H',\n",
       " 'notMNIST_small/I',\n",
       " 'notMNIST_small/J']"
      ]
     },
     "execution_count": 9,
     "metadata": {},
     "output_type": "execute_result"
    }
   ],
   "source": [
    "num_classes = 10\n",
    "np.random.seed(133)\n",
    "\n",
    "def maybe_extract(filename, force=False):\n",
    "  root = os.path.splitext(os.path.splitext(filename)[0])[0]  # remove .tar.gz\n",
    "  if os.path.isdir(root) and not force:\n",
    "    # You may override by setting force=True.\n",
    "    print('%s already present - Skipping extraction of %s.' % (root, filename))\n",
    "  else:\n",
    "    print('Extracting data for %s. This may take a while. Please wait.' % root)\n",
    "    tar = tarfile.open(filename)\n",
    "    sys.stdout.flush()\n",
    "    tar.extractall(data_root)\n",
    "    tar.close()\n",
    "  data_folders = [\n",
    "    os.path.join(root, d) for d in sorted(os.listdir(root))\n",
    "    if os.path.isdir(os.path.join(root, d))]\n",
    "  if len(data_folders) != num_classes:\n",
    "    raise Exception(\n",
    "      'Expected %d folders, one per class. Found %d instead.' % (\n",
    "        num_classes, len(data_folders)))\n",
    "  print(data_folders)\n",
    "  return data_folders\n",
    "\n",
    "train_filename = 'notMNIST_large.tar.gz'\n",
    "test_filename = 'notMNIST_small.tar.gz'\n",
    "train_folders = maybe_extract(train_filename)\n",
    "test_folders = maybe_extract(test_filename)\n",
    "\n",
    "['notMNIST_large/A', 'notMNIST_large/B', 'notMNIST_large/C', 'notMNIST_large/D', 'notMNIST_large/E', 'notMNIST_large/F', 'notMNIST_large/G', 'notMNIST_large/H', 'notMNIST_large/I', 'notMNIST_large/J']\n",
    "['notMNIST_small/A', 'notMNIST_small/B', 'notMNIST_small/C', 'notMNIST_small/D', 'notMNIST_small/E', 'notMNIST_small/F', 'notMNIST_small/G', 'notMNIST_small/H', 'notMNIST_small/I', 'notMNIST_small/J']\n",
    "\n"
   ]
  },
  {
   "cell_type": "code",
   "execution_count": 10,
   "metadata": {},
   "outputs": [
    {
     "data": {
      "image/png": "[encoded data removed]",
      "text/plain": [
       "<IPython.core.display.Image object>"
      ]
     },
     "execution_count": 10,
     "metadata": {},
     "output_type": "execute_result"
    }
   ],
   "source": [
    "from IPython.display import Image\n",
    "Image(os.getcwd() + '/notMNIST_small/A/MDEtMDEtMDAudHRm.png')\n",
    "\n",
    "\n",
    "    "
   ]
  },
  {
   "cell_type": "code",
   "execution_count": 26,
   "metadata": {},
   "outputs": [
    {
     "name": "stdout",
     "output_type": "stream",
     "text": [
      "Pickling notMNIST_large/A.pickle.\n",
      "notMNIST_large/A\n",
      "Could not read: notMNIST_large/A/SG90IE11c3RhcmQgQlROIFBvc3Rlci50dGY=.png : cannot identify image file 'notMNIST_large/A/SG90IE11c3RhcmQgQlROIFBvc3Rlci50dGY=.png' - it's ok, skipping.\n",
      "Could not read: notMNIST_large/A/RnJlaWdodERpc3BCb29rSXRhbGljLnR0Zg==.png : cannot identify image file 'notMNIST_large/A/RnJlaWdodERpc3BCb29rSXRhbGljLnR0Zg==.png' - it's ok, skipping.\n",
      "Could not read: notMNIST_large/A/Um9tYW5hIEJvbGQucGZi.png : cannot identify image file 'notMNIST_large/A/Um9tYW5hIEJvbGQucGZi.png' - it's ok, skipping.\n",
      "Full dataset tensor: (52909, 28, 28)\n",
      "Mean: -16.3519\n",
      "Standard deviation: 56.4979\n",
      "notMNIST_large/B.pickle already present - Skipping pickling.\n",
      "notMNIST_large/C.pickle already present - Skipping pickling.\n",
      "notMNIST_large/D.pickle already present - Skipping pickling.\n",
      "notMNIST_large/E.pickle already present - Skipping pickling.\n",
      "notMNIST_large/F.pickle already present - Skipping pickling.\n",
      "notMNIST_large/G.pickle already present - Skipping pickling.\n",
      "notMNIST_large/H.pickle already present - Skipping pickling.\n",
      "notMNIST_large/I.pickle already present - Skipping pickling.\n",
      "notMNIST_large/J.pickle already present - Skipping pickling.\n",
      "notMNIST_small/A.pickle already present - Skipping pickling.\n",
      "notMNIST_small/B.pickle already present - Skipping pickling.\n",
      "notMNIST_small/C.pickle already present - Skipping pickling.\n",
      "notMNIST_small/D.pickle already present - Skipping pickling.\n",
      "notMNIST_small/E.pickle already present - Skipping pickling.\n",
      "notMNIST_small/F.pickle already present - Skipping pickling.\n",
      "notMNIST_small/G.pickle already present - Skipping pickling.\n",
      "notMNIST_small/H.pickle already present - Skipping pickling.\n",
      "notMNIST_small/I.pickle already present - Skipping pickling.\n",
      "notMNIST_small/J.pickle already present - Skipping pickling.\n"
     ]
    }
   ],
   "source": [
    "image_size = 28  # Pixel width and height.\n",
    "pixel_depth = 255.0  # Number of levels per pixel.\n",
    "\n",
    "def load_letter(folder, min_num_images):\n",
    "  \"\"\"Load the data for a single letter label.\"\"\"\n",
    "  image_files = os.listdir(folder)\n",
    "  dataset = np.ndarray(shape=(len(image_files), image_size, image_size),\n",
    "                         dtype=np.float32)\n",
    "  print(folder)\n",
    "  num_images = 0\n",
    "  for image in image_files:\n",
    "    image_file = os.path.join(folder, image)\n",
    "    try:\n",
    "      image_data = (ndimage.imread(image_file).astype(float) - \n",
    "                    pixel_depth / 2) / pixel_depth\n",
    "      if image_data.shape != (image_size, image_size):\n",
    "        raise Exception('Unexpected image shape: %s' % str(image_data.shape))\n",
    "      dataset[num_images, :, :] = image_data\n",
    "      num_images = num_images + 1\n",
    "    except IOError as e:\n",
    "      print('Could not read:', image_file, ':', e, '- it\\'s ok, skipping.')\n",
    "    \n",
    "  dataset = dataset[0:num_images, :, :]\n",
    "  if num_images < min_num_images:\n",
    "    raise Exception('Many fewer images than expected: %d < %d' %\n",
    "                    (num_images, min_num_images))\n",
    "    \n",
    "  print('Full dataset tensor:', dataset.shape)\n",
    "  print('Mean:', np.mean(dataset))\n",
    "  print('Standard deviation:', np.std(dataset))\n",
    "  return dataset\n",
    "        \n",
    "def maybe_pickle(data_folders, min_num_images_per_class, force=False):\n",
    "  dataset_names = []\n",
    "  for folder in data_folders:\n",
    "    set_filename = folder + '.pickle'\n",
    "    dataset_names.append(set_filename)\n",
    "    if os.path.exists(set_filename) and not force:\n",
    "      # You may override by setting force=True.\n",
    "      print('%s already present - Skipping pickling.' % set_filename)\n",
    "    else:\n",
    "      print('Pickling %s.' % set_filename)\n",
    "      dataset = load_letter(folder, min_num_images_per_class)\n",
    "      try:\n",
    "        with open(set_filename, 'wb') as f:\n",
    "          pickle.dump(dataset, f, pickle.HIGHEST_PROTOCOL)\n",
    "      except Exception as e:\n",
    "        print('Unable to save data to', set_filename, ':', e)\n",
    "  \n",
    "  return dataset_names\n",
    "\n",
    "train_datasets = maybe_pickle(train_folders, 45000)\n",
    "test_datasets = maybe_pickle(test_folders, 1800)\n"
   ]
  },
  {
   "cell_type": "code",
   "execution_count": 23,
   "metadata": {},
   "outputs": [
    {
     "data": {
      "text/plain": [
       "['notMNIST_large/A.pickle',\n",
       " 'notMNIST_large/B.pickle',\n",
       " 'notMNIST_large/C.pickle',\n",
       " 'notMNIST_large/D.pickle',\n",
       " 'notMNIST_large/E.pickle',\n",
       " 'notMNIST_large/F.pickle',\n",
       " 'notMNIST_large/G.pickle',\n",
       " 'notMNIST_large/H.pickle',\n",
       " 'notMNIST_large/I.pickle',\n",
       " 'notMNIST_large/J.pickle']"
      ]
     },
     "execution_count": 23,
     "metadata": {},
     "output_type": "execute_result"
    }
   ],
   "source": [
    "train_datasets"
   ]
  },
  {
   "cell_type": "code",
   "execution_count": 38,
   "metadata": {},
   "outputs": [
    {
     "data": {
      "text/plain": [
       "(52909, 28, 28)"
      ]
     },
     "execution_count": 38,
     "metadata": {},
     "output_type": "execute_result"
    }
   ],
   "source": [
    "image_data = (ndimage.imread('notMNIST_large/A/a29ydW5pc2hpLnR0Zg==.png').astype(float))\n",
    "image_data_alter = (ndimage.imread('notMNIST_large/A/a29ydW5pc2hpLnR0Zg==.png').astype(float) - \n",
    "                    pixel_depth / 2) / pixel_depth\n",
    "data = np.ndarray(shape=(1, image_size, image_size),\n",
    "                         dtype=np.float32)\n",
    "data[0] = image_data_alter\n",
    "file = open(train_datasets[0],'rb')\n",
    "train_A = pickle.load(file)\n",
    "train_A.shape"
   ]
  },
  {
   "cell_type": "code",
   "execution_count": 39,
   "metadata": {},
   "outputs": [
    {
     "name": "stdout",
     "output_type": "stream",
     "text": [
      "Before - \n",
      "[[   0.    0.    0.    0.    4.    0.   79.  247.  253.  255.  255.  255.\n",
      "   255.  255.  255.  255.  255.  255.  255.  253.  247.   79.    0.    4.\n",
      "     0.    0.    0.    0.]\n",
      " [   0.    0.    0.    3.    0.   50.  238.  255.  253.  255.  255.  255.\n",
      "   255.  255.  255.  255.  255.  255.  255.  253.  255.  238.   50.    0.\n",
      "     3.    0.    0.    0.]\n",
      " [   0.    0.    3.    0.   31.  226.  255.  253.  255.  255.  255.  255.\n",
      "   255.  255.  255.  255.  255.  255.  255.  255.  253.  255.  226.   31.\n",
      "     0.    3.    0.    0.]\n",
      " [   0.    2.    1.   16.  207.  255.  252.  255.  255.  255.  255.  255.\n",
      "   255.  255.  255.  255.  255.  255.  255.  255.  255.  252.  255.  207.\n",
      "    16.    1.    2.    0.]\n",
      " [   1.    2.    4.  185.  255.  251.  255.  255.  255.  255.  255.  255.\n",
      "   255.  255.  255.  255.  255.  255.  255.  255.  255.  255.  251.  255.\n",
      "   185.    4.    2.    1.]\n",
      " [   4.    0.  159.  255.  251.  255.  255.  255.  255.  255.  255.  255.\n",
      "   255.  255.  255.  255.  255.  255.  255.  255.  255.  255.  255.  251.\n",
      "   255.  159.    0.    4.]\n",
      " [   0.  130.  255.  251.  255.  255.  255.  254.  253.  253.  253.  253.\n",
      "   253.  253.  253.  253.  253.  253.  253.  253.  254.  255.  255.  255.\n",
      "   251.  255.  130.    0.]\n",
      " [ 112.  255.  252.  255.  255.  255.  255.  255.  255.  255.  255.  255.\n",
      "   255.  255.  255.  255.  255.  255.  255.  255.  255.  255.  255.  255.\n",
      "   255.  252.  255.  112.]\n",
      " [ 255.  254.  254.  255.  255.  254.  255.   91.   49.   52.   49.   49.\n",
      "    49.   49.   49.   49.   49.   49.   52.   49.   91.  255.  254.  255.\n",
      "   255.  254.  254.  255.]\n",
      " [ 255.  255.  255.  255.  255.  254.  255.   42.    0.    0.    0.    0.\n",
      "     0.    0.    0.    0.    0.    0.    0.    0.   42.  255.  254.  255.\n",
      "   255.  255.  255.  255.]\n",
      " [ 255.  255.  255.  255.  255.  254.  255.   53.    2.    5.    2.    2.\n",
      "     2.    2.    2.    2.    2.    2.    5.    2.   53.  255.  254.  255.\n",
      "   255.  255.  255.  255.]\n",
      " [ 255.  255.  255.  255.  255.  254.  255.   51.    0.    3.    0.    0.\n",
      "     0.    0.    0.    0.    0.    0.    3.    0.   51.  255.  254.  255.\n",
      "   255.  255.  255.  255.]\n",
      " [ 255.  255.  255.  255.  255.  254.  255.   51.    0.    3.    0.    0.\n",
      "     0.    0.    0.    0.    0.    0.    3.    0.   51.  255.  254.  255.\n",
      "   255.  255.  255.  255.]\n",
      " [ 255.  255.  255.  255.  255.  254.  255.   52.    1.    4.    1.    1.\n",
      "     1.    1.    1.    1.    1.    1.    4.    1.   52.  255.  254.  255.\n",
      "   255.  255.  255.  255.]\n",
      " [ 254.  255.  255.  255.  255.  254.  255.   46.    0.    0.    0.    0.\n",
      "     0.    0.    0.    0.    0.    0.    0.    0.   46.  255.  254.  255.\n",
      "   255.  255.  255.  255.]\n",
      " [ 255.  254.  255.  255.  255.  254.  255.   71.   25.   28.   25.   25.\n",
      "    25.   25.   25.   25.   25.   25.   28.   24.   70.  255.  254.  255.\n",
      "   255.  255.  255.  255.]\n",
      " [ 137.  255.  252.  255.  255.  255.  255.  250.  249.  249.  249.  249.\n",
      "   249.  249.  249.  249.  249.  250.  249.  251.  255.  254.  255.  255.\n",
      "   255.  255.  255.  255.]\n",
      " [   0.  153.  255.  251.  255.  255.  255.  255.  255.  255.  255.  255.\n",
      "   255.  255.  255.  255.  255.  255.  255.  250.  139.  251.  255.  255.\n",
      "   255.  255.  255.  255.]\n",
      " [   3.    3.  182.  255.  251.  255.  255.  254.  254.  254.  254.  254.\n",
      "   254.  254.  254.  254.  253.  252.  255.   85.   32.  255.  254.  255.\n",
      "   255.  255.  255.  255.]\n",
      " [   2.    1.   14.  205.  255.  252.  255.  255.  255.  255.  255.  255.\n",
      "   255.  255.  255.  254.  252.  255.  109.    0.   55.  255.  254.  255.\n",
      "   255.  255.  255.  255.]\n",
      " [   0.    2.    0.   30.  224.  255.  253.  255.  255.  255.  255.  255.\n",
      "   255.  255.  254.  251.  255.  116.    0.    2.   51.  255.  254.  255.\n",
      "   255.  255.  255.  255.]\n",
      " [   0.    0.    3.    0.   48.  239.  254.  253.  255.  255.  255.  255.\n",
      "   255.  254.  252.  255.  127.    0.    6.    0.   51.  255.  254.  255.\n",
      "   255.  255.  255.  255.]\n",
      " [   0.    0.    0.    4.    0.   71.  251.  255.  254.  255.  255.  255.\n",
      "   255.  253.  255.  137.    0.    3.    3.    0.   51.  252.  253.  255.\n",
      "   255.  255.  255.  255.]\n",
      " [   0.    0.    0.    0.    4.    0.   97.  251.  255.  255.  255.  255.\n",
      "   255.  255.  147.    0.    4.    1.    3.    0.   52.  255.  255.  251.\n",
      "   254.  255.  255.  255.]\n",
      " [   0.    0.    0.    0.    0.    2.    0.   32.   37.   36.   37.   37.\n",
      "    37.   37.    0.    1.    1.    0.    1.    1.    9.  125.  236.  255.\n",
      "   255.  252.  255.  255.]\n",
      " [   0.    0.    0.    0.    0.    0.    1.    0.    0.    0.    0.    0.\n",
      "     0.    0.    0.    0.    0.    0.    0.    0.    0.    0.   32.  148.\n",
      "   247.  255.  255.  253.]\n",
      " [   0.    0.    0.    0.    0.    0.    0.    2.    2.    2.    2.    2.\n",
      "     2.    2.    0.    0.    0.    0.    0.    0.    0.    3.    0.    0.\n",
      "    40.  159.  250.  255.]\n",
      " [   0.    0.    0.    0.    0.    0.    0.    0.    0.    0.    0.    0.\n",
      "     0.    0.    0.    0.    0.    0.    0.    0.    0.    0.    2.    3.\n",
      "     0.    0.   65.  190.]]\n",
      "after - \n",
      "[[-0.5        -0.5        -0.5        -0.5        -0.48431373 -0.5\n",
      "  -0.19019608  0.46862745  0.49215686  0.5         0.5         0.5         0.5\n",
      "   0.5         0.5         0.5         0.5         0.5         0.5\n",
      "   0.49215686  0.46862745 -0.19019608 -0.5        -0.48431373 -0.5        -0.5\n",
      "  -0.5        -0.5       ]\n",
      " [-0.5        -0.5        -0.5        -0.48823529 -0.5        -0.30392158\n",
      "   0.43333334  0.5         0.49215686  0.5         0.5         0.5         0.5\n",
      "   0.5         0.5         0.5         0.5         0.5         0.5\n",
      "   0.49215686  0.5         0.43333334 -0.30392158 -0.5        -0.48823529\n",
      "  -0.5        -0.5        -0.5       ]\n",
      " [-0.5        -0.5        -0.48823529 -0.5        -0.37843138  0.38627452\n",
      "   0.5         0.49215686  0.5         0.5         0.5         0.5         0.5\n",
      "   0.5         0.5         0.5         0.5         0.5         0.5         0.5\n",
      "   0.49215686  0.5         0.38627452 -0.37843138 -0.5        -0.48823529\n",
      "  -0.5        -0.5       ]\n",
      " [-0.5        -0.49215686 -0.49607843 -0.43725491  0.31176472  0.5\n",
      "   0.48823529  0.5         0.5         0.5         0.5         0.5         0.5\n",
      "   0.5         0.5         0.5         0.5         0.5         0.5         0.5\n",
      "   0.5         0.48823529  0.5         0.31176472 -0.43725491 -0.49607843\n",
      "  -0.49215686 -0.5       ]\n",
      " [-0.49607843 -0.49215686 -0.48431373  0.2254902   0.5         0.48431373\n",
      "   0.5         0.5         0.5         0.5         0.5         0.5         0.5\n",
      "   0.5         0.5         0.5         0.5         0.5         0.5         0.5\n",
      "   0.5         0.5         0.48431373  0.5         0.2254902  -0.48431373\n",
      "  -0.49215686 -0.49607843]\n",
      " [-0.48431373 -0.5         0.12352941  0.5         0.48431373  0.5         0.5\n",
      "   0.5         0.5         0.5         0.5         0.5         0.5         0.5\n",
      "   0.5         0.5         0.5         0.5         0.5         0.5         0.5\n",
      "   0.5         0.5         0.48431373  0.5         0.12352941 -0.5\n",
      "  -0.48431373]\n",
      " [-0.5         0.00980392  0.5         0.48431373  0.5         0.5         0.5\n",
      "   0.49607843  0.49215686  0.49215686  0.49215686  0.49215686  0.49215686\n",
      "   0.49215686  0.49215686  0.49215686  0.49215686  0.49215686  0.49215686\n",
      "   0.49215686  0.49607843  0.5         0.5         0.5         0.48431373\n",
      "   0.5         0.00980392 -0.5       ]\n",
      " [-0.06078431  0.5         0.48823529  0.5         0.5         0.5         0.5\n",
      "   0.5         0.5         0.5         0.5         0.5         0.5         0.5\n",
      "   0.5         0.5         0.5         0.5         0.5         0.5         0.5\n",
      "   0.5         0.5         0.5         0.5         0.48823529  0.5\n",
      "  -0.06078431]\n",
      " [ 0.5         0.49607843  0.49607843  0.5         0.5         0.49607843\n",
      "   0.5        -0.14313726 -0.30784315 -0.29607844 -0.30784315 -0.30784315\n",
      "  -0.30784315 -0.30784315 -0.30784315 -0.30784315 -0.30784315 -0.30784315\n",
      "  -0.29607844 -0.30784315 -0.14313726  0.5         0.49607843  0.5         0.5\n",
      "   0.49607843  0.49607843  0.5       ]\n",
      " [ 0.5         0.5         0.5         0.5         0.5         0.49607843\n",
      "   0.5        -0.33529413 -0.5        -0.5        -0.5        -0.5        -0.5\n",
      "  -0.5        -0.5        -0.5        -0.5        -0.5        -0.5        -0.5\n",
      "  -0.33529413  0.5         0.49607843  0.5         0.5         0.5         0.5\n",
      "   0.5       ]\n",
      " [ 0.5         0.5         0.5         0.5         0.5         0.49607843\n",
      "   0.5        -0.29215688 -0.49215686 -0.48039216 -0.49215686 -0.49215686\n",
      "  -0.49215686 -0.49215686 -0.49215686 -0.49215686 -0.49215686 -0.49215686\n",
      "  -0.48039216 -0.49215686 -0.29215688  0.5         0.49607843  0.5         0.5\n",
      "   0.5         0.5         0.5       ]\n",
      " [ 0.5         0.5         0.5         0.5         0.5         0.49607843\n",
      "   0.5        -0.30000001 -0.5        -0.48823529 -0.5        -0.5        -0.5\n",
      "  -0.5        -0.5        -0.5        -0.5        -0.5        -0.48823529\n",
      "  -0.5        -0.30000001  0.5         0.49607843  0.5         0.5         0.5\n",
      "   0.5         0.5       ]\n",
      " [ 0.5         0.5         0.5         0.5         0.5         0.49607843\n",
      "   0.5        -0.30000001 -0.5        -0.48823529 -0.5        -0.5        -0.5\n",
      "  -0.5        -0.5        -0.5        -0.5        -0.5        -0.48823529\n",
      "  -0.5        -0.30000001  0.5         0.49607843  0.5         0.5         0.5\n",
      "   0.5         0.5       ]\n",
      " [ 0.5         0.5         0.5         0.5         0.5         0.49607843\n",
      "   0.5        -0.29607844 -0.49607843 -0.48431373 -0.49607843 -0.49607843\n",
      "  -0.49607843 -0.49607843 -0.49607843 -0.49607843 -0.49607843 -0.49607843\n",
      "  -0.48431373 -0.49607843 -0.29607844  0.5         0.49607843  0.5         0.5\n",
      "   0.5         0.5         0.5       ]\n",
      " [ 0.49607843  0.5         0.5         0.5         0.5         0.49607843\n",
      "   0.5        -0.31960785 -0.5        -0.5        -0.5        -0.5        -0.5\n",
      "  -0.5        -0.5        -0.5        -0.5        -0.5        -0.5        -0.5\n",
      "  -0.31960785  0.5         0.49607843  0.5         0.5         0.5         0.5\n",
      "   0.5       ]\n",
      " [ 0.5         0.49607843  0.5         0.5         0.5         0.49607843\n",
      "   0.5        -0.22156863 -0.40196079 -0.39019608 -0.40196079 -0.40196079\n",
      "  -0.40196079 -0.40196079 -0.40196079 -0.40196079 -0.40196079 -0.40196079\n",
      "  -0.39019608 -0.40588236 -0.2254902   0.5         0.49607843  0.5         0.5\n",
      "   0.5         0.5         0.5       ]\n",
      " [ 0.0372549   0.5         0.48823529  0.5         0.5         0.5         0.5\n",
      "   0.48039216  0.47647059  0.47647059  0.47647059  0.47647059  0.47647059\n",
      "   0.47647059  0.47647059  0.47647059  0.47647059  0.48039216  0.47647059\n",
      "   0.48431373  0.5         0.49607843  0.5         0.5         0.5         0.5\n",
      "   0.5         0.5       ]\n",
      " [-0.5         0.1         0.5         0.48431373  0.5         0.5         0.5\n",
      "   0.5         0.5         0.5         0.5         0.5         0.5         0.5\n",
      "   0.5         0.5         0.5         0.5         0.5         0.48039216\n",
      "   0.04509804  0.48431373  0.5         0.5         0.5         0.5         0.5\n",
      "   0.5       ]\n",
      " [-0.48823529 -0.48823529  0.21372549  0.5         0.48431373  0.5         0.5\n",
      "   0.49607843  0.49607843  0.49607843  0.49607843  0.49607843  0.49607843\n",
      "   0.49607843  0.49607843  0.49607843  0.49215686  0.48823529  0.5\n",
      "  -0.16666667 -0.37450981  0.5         0.49607843  0.5         0.5         0.5\n",
      "   0.5         0.5       ]\n",
      " [-0.49215686 -0.49607843 -0.44509804  0.30392158  0.5         0.48823529\n",
      "   0.5         0.5         0.5         0.5         0.5         0.5         0.5\n",
      "   0.5         0.5         0.49607843  0.48823529  0.5        -0.07254902\n",
      "  -0.5        -0.28431374  0.5         0.49607843  0.5         0.5         0.5\n",
      "   0.5         0.5       ]\n",
      " [-0.5        -0.49215686 -0.5        -0.38235295  0.37843138  0.5\n",
      "   0.49215686  0.5         0.5         0.5         0.5         0.5         0.5\n",
      "   0.5         0.49607843  0.48431373  0.5        -0.04509804 -0.5\n",
      "  -0.49215686 -0.30000001  0.5         0.49607843  0.5         0.5         0.5\n",
      "   0.5         0.5       ]\n",
      " [-0.5        -0.5        -0.48823529 -0.5        -0.31176472  0.43725491\n",
      "   0.49607843  0.49215686  0.5         0.5         0.5         0.5         0.5\n",
      "   0.49607843  0.48823529  0.5        -0.00196078 -0.5        -0.47647059\n",
      "  -0.5        -0.30000001  0.5         0.49607843  0.5         0.5         0.5\n",
      "   0.5         0.5       ]\n",
      " [-0.5        -0.5        -0.5        -0.48431373 -0.5        -0.22156863\n",
      "   0.48431373  0.5         0.49607843  0.5         0.5         0.5         0.5\n",
      "   0.49215686  0.5         0.0372549  -0.5        -0.48823529 -0.48823529\n",
      "  -0.5        -0.30000001  0.48823529  0.49215686  0.5         0.5         0.5\n",
      "   0.5         0.5       ]\n",
      " [-0.5        -0.5        -0.5        -0.5        -0.48431373 -0.5\n",
      "  -0.11960784  0.48431373  0.5         0.5         0.5         0.5         0.5\n",
      "   0.5         0.07647059 -0.5        -0.48431373 -0.49607843 -0.48823529\n",
      "  -0.5        -0.29607844  0.5         0.5         0.48431373  0.49607843\n",
      "   0.5         0.5         0.5       ]\n",
      " [-0.5        -0.5        -0.5        -0.5        -0.5        -0.49215686\n",
      "  -0.5        -0.37450981 -0.35490197 -0.35882354 -0.35490197 -0.35490197\n",
      "  -0.35490197 -0.35490197 -0.5        -0.49607843 -0.49607843 -0.5\n",
      "  -0.49607843 -0.49607843 -0.46470588 -0.00980392  0.4254902   0.5         0.5\n",
      "   0.48823529  0.5         0.5       ]\n",
      " [-0.5        -0.5        -0.5        -0.5        -0.5        -0.5\n",
      "  -0.49607843 -0.5        -0.5        -0.5        -0.5        -0.5        -0.5\n",
      "  -0.5        -0.5        -0.5        -0.5        -0.5        -0.5        -0.5\n",
      "  -0.5        -0.5        -0.37450981  0.08039216  0.46862745  0.5         0.5\n",
      "   0.49215686]\n",
      " [-0.5        -0.5        -0.5        -0.5        -0.5        -0.5        -0.5\n",
      "  -0.49215686 -0.49215686 -0.49215686 -0.49215686 -0.49215686 -0.49215686\n",
      "  -0.49215686 -0.5        -0.5        -0.5        -0.5        -0.5        -0.5\n",
      "  -0.5        -0.48823529 -0.5        -0.5        -0.34313726  0.12352941\n",
      "   0.48039216  0.5       ]\n",
      " [-0.5        -0.5        -0.5        -0.5        -0.5        -0.5        -0.5\n",
      "  -0.5        -0.5        -0.5        -0.5        -0.5        -0.5        -0.5\n",
      "  -0.5        -0.5        -0.5        -0.5        -0.5        -0.5        -0.5\n",
      "  -0.5        -0.49215686 -0.48823529 -0.5        -0.5        -0.24509804\n",
      "   0.24509804]]\n"
     ]
    },
    {
     "data": {
      "text/plain": [
       "<matplotlib.image.AxesImage at 0x7fe6814eef98>"
      ]
     },
     "execution_count": 39,
     "metadata": {},
     "output_type": "execute_result"
    },
    {
     "data": {
      "image/png": "[encoded data removed]",
      "text/plain": [
       "<matplotlib.figure.Figure at 0x7fe6811f7ba8>"
      ]
     },
     "metadata": {},
     "output_type": "display_data"
    }
   ],
   "source": [
    "%matplotlib inline\n",
    "print('Before - ')\n",
    "print(image_data)\n",
    "\n",
    "print('after - ')\n",
    "print(data[0,:,:])\n",
    "\n",
    "#print('28*28 -')\n",
    "plt.imshow(data[0,:,:])\n",
    "#print(train_A[0,:,:])\n",
    "#plt.imshow(train_A[0,:,:])"
   ]
  },
  {
   "cell_type": "markdown",
   "metadata": {},
   "source": []
  },
  {
   "cell_type": "code",
   "execution_count": 9,
   "metadata": {},
   "outputs": [
    {
     "name": "stdout",
     "output_type": "stream",
     "text": [
      "Checking number of images per class...\n",
      "./notMNIST_large/A.pickle size: 52909\n",
      "./notMNIST_large/B.pickle size: 52911\n",
      "./notMNIST_large/C.pickle size: 52912\n",
      "./notMNIST_large/D.pickle size: 52911\n",
      "./notMNIST_large/E.pickle size: 52912\n",
      "./notMNIST_large/F.pickle size: 52912\n",
      "./notMNIST_large/G.pickle size: 52912\n",
      "./notMNIST_large/H.pickle size: 52912\n",
      "./notMNIST_large/I.pickle size: 52912\n",
      "./notMNIST_large/J.pickle size: 52911\n",
      "./notMNIST_small/A.pickle size: 1872\n",
      "./notMNIST_small/B.pickle size: 1873\n",
      "./notMNIST_small/C.pickle size: 1873\n",
      "./notMNIST_small/D.pickle size: 1873\n",
      "./notMNIST_small/E.pickle size: 1873\n",
      "./notMNIST_small/F.pickle size: 1872\n",
      "./notMNIST_small/G.pickle size: 1872\n",
      "./notMNIST_small/H.pickle size: 1872\n",
      "./notMNIST_small/I.pickle size: 1872\n",
      "./notMNIST_small/J.pickle size: 1872\n"
     ]
    }
   ],
   "source": [
    "print('Checking number of images per class...')\n",
    "for letter in train_datasets:\n",
    "    file = open(letter,'rb')\n",
    "    dataset = pickle.load(file)\n",
    "    print(letter + ' size: ' + str(dataset.shape[0]))\n",
    "for letter in test_datasets:\n",
    "    file = open(letter,'rb')\n",
    "    dataset = pickle.load(file)\n",
    "    print(letter + ' size: ' + str(dataset.shape[0]))"
   ]
  },
  {
   "cell_type": "code",
   "execution_count": 10,
   "metadata": {},
   "outputs": [
    {
     "name": "stdout",
     "output_type": "stream",
     "text": [
      "Training: (200000, 28, 28) (200000,)\n",
      "Validation: (10000, 28, 28) (10000,)\n",
      "Testing: (10000, 28, 28) (10000,)\n"
     ]
    }
   ],
   "source": [
    "def make_arrays(nb_rows, img_size):\n",
    "  if nb_rows:\n",
    "    dataset = np.ndarray((nb_rows, img_size, img_size), dtype=np.float32)\n",
    "    labels = np.ndarray(nb_rows, dtype=np.int32)\n",
    "  else:\n",
    "    dataset, labels = None, None\n",
    "  return dataset, labels\n",
    "\n",
    "def merge_datasets(pickle_files, train_size, valid_size=0):\n",
    "  num_classes = len(pickle_files)\n",
    "  valid_dataset, valid_labels = make_arrays(valid_size, image_size)\n",
    "  train_dataset, train_labels = make_arrays(train_size, image_size)\n",
    "  vsize_per_class = valid_size // num_classes\n",
    "  tsize_per_class = train_size // num_classes\n",
    "  start_v, start_t = 0, 0\n",
    "  end_v, end_t = vsize_per_class, tsize_per_class\n",
    "  end_l = vsize_per_class+tsize_per_class\n",
    "  for label, pickle_file in enumerate(pickle_files):       \n",
    "    try:\n",
    "      with open(pickle_file, 'rb') as f:\n",
    "        letter_set = pickle.load(f)\n",
    "        # let's shuffle the letters to have random validation and training set\n",
    "        np.random.shuffle(letter_set)\n",
    "        if valid_dataset is not None:\n",
    "          valid_letter = letter_set[:vsize_per_class, :, :]\n",
    "          valid_dataset[start_v:end_v, :, :] = valid_letter\n",
    "          valid_labels[start_v:end_v] = label\n",
    "          start_v += vsize_per_class\n",
    "          end_v += vsize_per_class\n",
    "                    \n",
    "        train_letter = letter_set[vsize_per_class:end_l, :, :]\n",
    "        train_dataset[start_t:end_t, :, :] = train_letter\n",
    "        train_labels[start_t:end_t] = label\n",
    "        start_t += tsize_per_class\n",
    "        end_t += tsize_per_class\n",
    "    except Exception as e:\n",
    "      print('Unable to process data from', pickle_file, ':', e)\n",
    "      raise\n",
    "    \n",
    "  return valid_dataset, valid_labels, train_dataset, train_labels\n",
    "            \n",
    "            \n",
    "train_size = 200000\n",
    "valid_size = 10000\n",
    "test_size = 10000\n",
    "\n",
    "valid_dataset, valid_labels, train_dataset, train_labels = merge_datasets(\n",
    "  train_datasets, train_size, valid_size)\n",
    "_, _, test_dataset, test_labels = merge_datasets(test_datasets, test_size)\n",
    "\n",
    "print('Training:', train_dataset.shape, train_labels.shape)\n",
    "print('Validation:', valid_dataset.shape, valid_labels.shape)\n",
    "print('Testing:', test_dataset.shape, test_labels.shape)"
   ]
  },
  {
   "cell_type": "code",
   "execution_count": 11,
   "metadata": {
    "collapsed": true
   },
   "outputs": [],
   "source": [
    "def randomize(dataset, labels):\n",
    "  permutation = np.random.permutation(labels.shape[0])\n",
    "  shuffled_dataset = dataset[permutation,:,:]\n",
    "  shuffled_labels = labels[permutation]\n",
    "  return shuffled_dataset, shuffled_labels\n",
    "train_dataset, train_labels = randomize(train_dataset, train_labels)\n",
    "test_dataset, test_labels = randomize(test_dataset, test_labels)\n",
    "valid_dataset, valid_labels = randomize(valid_dataset, valid_labels)"
   ]
  },
  {
   "cell_type": "code",
   "execution_count": 12,
   "metadata": {},
   "outputs": [
    {
     "data": {
      "image/png": "[encoded data removed]",
      "text/plain": [
       "<matplotlib.figure.Figure at 0x7f681b59a438>"
      ]
     },
     "metadata": {},
     "output_type": "display_data"
    }
   ],
   "source": [
    "fig, ax = plt.subplots(3,1)\n",
    "ax[0].hist(train_labels,10)\n",
    "ax[1].hist(test_labels,10)\n",
    "ax[2].hist(valid_labels,10)\n",
    "fig.tight_layout()\n"
   ]
  },
  {
   "cell_type": "code",
   "execution_count": 13,
   "metadata": {
    "collapsed": true
   },
   "outputs": [],
   "source": [
    "\n",
    "\n",
    "pickle_file = os.path.join(data_root, 'notMNIST.pickle')\n",
    "\n",
    "try:\n",
    "  f = open(pickle_file, 'wb')\n",
    "  save = {\n",
    "    'train_dataset': train_dataset,\n",
    "    'train_labels': train_labels,\n",
    "    'valid_dataset': valid_dataset,\n",
    "    'valid_labels': valid_labels,\n",
    "    'test_dataset': test_dataset,\n",
    "    'test_labels': test_labels,\n",
    "    }\n",
    "  pickle.dump(save, f, pickle.HIGHEST_PROTOCOL)\n",
    "  f.close()\n",
    "except Exception as e:\n",
    "  print('Unable to save data to', pickle_file, ':', e)\n",
    "  raise\n",
    "\n"
   ]
  },
  {
   "cell_type": "code",
   "execution_count": 14,
   "metadata": {},
   "outputs": [
    {
     "name": "stdout",
     "output_type": "stream",
     "text": [
      "Compressed pickle size: 690800503\n"
     ]
    }
   ],
   "source": [
    "statinfo = os.stat(pickle_file)\n",
    "print('Compressed pickle size:', statinfo.st_size)"
   ]
  },
  {
   "cell_type": "code",
   "execution_count": 43,
   "metadata": {},
   "outputs": [
    {
     "name": "stdout",
     "output_type": "stream",
     "text": [
      "Unique Train Dataset :  187433\n",
      "Unique Valid Dataset :  917\n",
      "Unique Test Dataset  :  1100\n"
     ]
    }
   ],
   "source": [
    "train_hash = [hash(e.tobytes()) for e in train_dataset]\n",
    "valid_hash = [hash(e.tobytes()) for e in valid_dataset]\n",
    "test_hash = [hash(e.tobytes()) for e in test_dataset]\n",
    "\n",
    "unique_train = set(train_hash)\n",
    "unique_valid = unique_train.intersection(set(valid_hash))\n",
    "unique_test = unique_train.intersection(set(test_hash))\n",
    "print('Unique Train Dataset : ' , len(unique_train))\n",
    "print('Unique Valid Dataset : ' , len(unique_valid))\n",
    "print('Unique Test Dataset  : ' , len(unique_test))"
   ]
  },
  {
   "cell_type": "code",
   "execution_count": 15,
   "metadata": {},
   "outputs": [
    {
     "data": {
      "text/plain": [
       "['QmVsaXppb0JvbGQub3Rm.png',\n",
       " 'Q29uc3RhbnRpYS50dGY=.png',\n",
       " 'QmVuZ3VpYXRJdGNURUUgQm9sZCBJdGFsaWMudHRm.png',\n",
       " 'RWxla3RyaXhMaWdodC5vdGY=.png',\n",
       " 'QnJvYWR3YXlNVFN0ZC5vdGY=.png',\n",
       " 'QmFza2VydmxsZTIgQlQgUm9tYW4udHRm.png',\n",
       " 'QWRlbG9uLURlbWlCb2xkLm90Zg==.png',\n",
       " 'Q3VzaGluZ0l0Y1RFRUhlYS50dGY=.png',\n",
       " 'QXRoZW5hZXVtU3RkLUJvbGQub3Rm.png',\n",
       " 'QWdlbmRhdHlwZVN3YXNoLUJvbGRJdGFsaWMub3Rm.png',\n",
       " 'SVRDIEdvdWR5IFNhbnMgQm9sZC5wZmI=.png',\n",
       " 'QWJjUGhvbmljc1R3by50dGY=.png',\n",
       " 'QmF1aGF1cy1EZW1pLm90Zg==.png',\n",
       " 'RmFybmhhbURpc3BsYXktQmxhY2sub3Rm.png',\n",
       " 'QmVhY2ggVGhpbiBCb2xkLnR0Zg==.png',\n",
       " 'Q2FzbG9uQzM3LUxndEl0bEFsdC5vdGY=.png',\n",
       " 'Q2hhcnRlckVGLVJlZ3VsYXJJdGFsaWNPc0Yub3Rm.png',\n",
       " 'Q29vcGVyIEJsayBCVCBCbGFjay50dGY=.png',\n",
       " 'QnJpb3NvUHJvLUJvbGRJdERpc3Aub3Rm.png',\n",
       " 'RnJhbmtUaW1lcy1JdGFsaWMudHRm.png',\n",
       " 'QkRmYXplci5vdGY=.png',\n",
       " 'Q2hhc2xpbmUtQm9sZC5vdGY=.png',\n",
       " 'QXBvbGxvIFJlZ3VsYXIudHRm.png',\n",
       " 'Rm9zdGVyc0hhbmQgUmVndWxhci50dGY=.png',\n",
       " 'SGlnaGxpZ2h0TFQub3Rm.png',\n",
       " 'RWxla3Ryb24udHRm.png',\n",
       " 'QmFza2VydmlsbGVOZXdCUS1Cb2xkSXRhbGljLm90Zg==.png',\n",
       " 'SWFkZWxvbi1Cb2xkLm90Zg==.png',\n",
       " 'RnJvc3R5c0hhbmQgUmVndWxhci50dGY=.png',\n",
       " 'RHluYW1vUmVIRS5vdGY=.png',\n",
       " 'Qm9sZGZhY2VJdGFsaWMtLnR0Zg==.png',\n",
       " 'Q29ybmV0IFNjcmlwdC50dGY=.png',\n",
       " 'Q29uc29sYXMgSXRhbGljLnR0Zg==.png',\n",
       " 'QW5hbGdlc2ljcy50dGY=.png',\n",
       " 'QWJkdWN0aW9uMjAwMi50dGY=.png',\n",
       " 'Q2xlYXJ2aWV3SHd5LTYtQi50dGY=.png',\n",
       " 'RW5nbGlzaFRvd25lLnR0Zg==.png',\n",
       " 'QmVhdSBUaGluIEl0YWxpYy50dGY=.png',\n",
       " 'QmFubmVyU3RkLm90Zg==.png',\n",
       " 'SGlnaGxhbmRlclN0ZC1Cb29rLm90Zg==.png',\n",
       " 'Qm9kb25pRUYtRGVtaUJvbGQub3Rm.png',\n",
       " 'Q29tcGFjdGEgQmxhY2sgQlQudHRm.png',\n",
       " 'SG91bmRzIEJvbGQudHRm.png',\n",
       " 'RWxlbWVudGFTeW1ib2wtQm9sZEl0YWxpYy5vdGY=.png',\n",
       " 'RGVhclRlYWNoZXItTm9ybWFsLnR0Zg==.png',\n",
       " 'Q2xhc3NpY2EgT25lLnR0Zg==.png',\n",
       " 'Q3V0dGVyUm9tYW4ub3Rm.png',\n",
       " 'QmxldyBXaWRlIEJvbGQgSXRhbGljLnR0Zg==.png',\n",
       " 'SGFycG9vbi50dGY=.png',\n",
       " 'QmVybnlLbGluZ29uLnR0Zg==.png',\n",
       " 'QURNT05PLVJlZ3VsYXIudHRm.png',\n",
       " 'Q2hpY2Fnb0xhc2VyIE1lZGl1bS50dGY=.png',\n",
       " 'RWxsaW5ndG9uTVQtQm9sZEl0YWxpYy5vdGY=.png',\n",
       " 'R3Vuc2hpcCBJdGFsaWMudHRm.png',\n",
       " 'RkZGIFByb3RlZ2UgRXh0ZW5kZWQudHRm.png',\n",
       " 'RGF5dHJpcHBlciBQbGFpbi50dGY=.png',\n",
       " 'R2Fpc2VyaWMgRGVtby50dGY=.png',\n",
       " 'RmF2b3JpdC50dGY=.png',\n",
       " 'RmxhdCBCcnVzaCBJdGFsaWMudHRm.png',\n",
       " 'QnVzdGVyLUJvbGRDb25kZW5zZWQub3Rm.png',\n",
       " 'Q2FsdmVydCBNVCBMaWdodC50dGY=.png',\n",
       " 'SHVtYW5hIFNjcmlwdCBJVEMgVFQgQm9sZC50dGY=.png',\n",
       " 'QnJlYWtiZWF0IEJUTiBPdXRsaW5lLnR0Zg==.png',\n",
       " 'R2FyYW1vbmRJdGNULUxpZ2h0Q29uZGVuc2VkSXRhbGljLm90Zg==.png',\n",
       " 'R3JpZGRlci1ORUcub3Rm.png',\n",
       " 'Qm9yZGVhdXggSUNHLnR0Zg==.png',\n",
       " 'Q2FsaXMgaW4gUHVwcGV0bGFuZC50dGY=.png',\n",
       " 'R2Fkem9veEJvbGQub3Rm.png',\n",
       " 'QW1hc2lzIE1UIEJvbGQudHRm.png',\n",
       " 'RGlzdHJlc3Mub3Rm.png',\n",
       " 'QXJpZCBJVEMudHRm.png',\n",
       " 'QmVybGluZXJHcm90ZXNrLUxpZ2h0Lm90Zg==.png',\n",
       " 'RGVsdGEtQ29uZGVuc2VkSXRhbGljLnR0Zg==.png',\n",
       " 'RGlnaUdyb3Rlc2tORUYtU2VtaUJvbGRDb25kLm90Zg==.png',\n",
       " 'SGVhZGxpbmUgV2lkZSBCb2xkSXRhbGljLnR0Zg==.png',\n",
       " 'QXV0b3RyYWNlLUZpdmUub3Rm.png',\n",
       " 'R2FyYW1vbmRMVC1Cb2xkQ29uZGVuc2VkSXRhbGljLm90Zg==.png',\n",
       " 'RmFycmFoc0hhbmQgUmVndWxhci50dGY=.png',\n",
       " 'Q2FuZGlkYSBCVCBJdGFsaWMudHRm.png',\n",
       " 'Q3Jvbm9zUHJvLVNlbWlib2xkSXQub3Rm.png',\n",
       " 'RnVubnkgUGFnZXMgU2hhZG93LnR0Zg==.png',\n",
       " 'RHJhZ29uRUYtRGVtaUJvbGQub3Rm.png',\n",
       " 'R2FyYW1vbmQtTm9ybWFsIENvbmRlbnNlZCBCb2xkIEl0YWxpYy50dGY=.png',\n",
       " 'QmFza2VydmlsbGUgU1NpLnR0Zg==.png',\n",
       " 'QWxtb3N0IEhlYXZlbiBORi50dGY=.png',\n",
       " 'QmF1ZXJUb3BpYy1CbGQub3Rm.png',\n",
       " 'R2VvbWV0cmljIDIzMSBIZWF2eSBCVC50dGY=.png',\n",
       " 'QmVuZ3VpYXRJVENieUJULUJvb2tDb25kZW5zZWQub3Rm.png',\n",
       " 'QmlsYm9EaXNwbGF5IEJvbGQgSXRhbGljLnR0Zg==.png',\n",
       " 'Q29ycG9yYXRlIFMgRXhwZXJ0IEV4dHJhIEJvbGQgSXRhbGljIE9zRi50dGY=.png',\n",
       " 'RnV0dXJhQmxhY2tFRi5vdGY=.png',\n",
       " 'RHV0Y2g4MDlCVC1Sb21hbkMub3Rm.png',\n",
       " 'Q2FlY2lsaWEtSGVhdnlJdGFsaWNPc0Yub3Rm.png',\n",
       " 'RmF0IFNhbS50dGY=.png',\n",
       " 'QXRsYXMgb2YgdGhlIE1hZ2kudHRm.png',\n",
       " 'Q2hvcmQtQmxhY2sub3Rm.png',\n",
       " 'Q2Fzc2FuZHJhRUYtQm9sZC5vdGY=.png',\n",
       " 'QW5hdG9sZSBEaXNwbGF5IFNTaS50dGY=.png',\n",
       " 'R2x5cGhpY1Nlcmllc091dGxpbmUub3Rm.png',\n",
       " 'QmVuZ3VpYXRFRi1Cb2xkSXRhbGljLm90Zg==.png',\n",
       " 'QXVyaW9sTFRTdGQtSXRhbGljLm90Zg==.png',\n",
       " 'QXJyb3dFeHRyYUJvbGQub3Rm.png',\n",
       " 'QW1wbGlmaWVyQm9sZEV4dGVuc2lvbnMub3Rm.png',\n",
       " 'RGFudG8gVGhpbiBCb2xkLnR0Zg==.png',\n",
       " 'Q2FyYm9uIEJsb2NrLnR0Zg==.png',\n",
       " 'RWd5cHRpZW5uZUYtQm9sZC5vdGY=.png',\n",
       " 'SGFuZHdlcmsudHRm.png',\n",
       " 'RGlzY28gRG9yayBJdGFsaWMudHRm.png',\n",
       " 'SG9iby1UaGluLnR0Zg==.png',\n",
       " 'R2xpdHp5Q3VybCBSZWd1bGFyLnR0Zg==.png',\n",
       " 'Q29ucXVpc3RhIFNTaSBJdGFsaWMudHRm.png',\n",
       " 'RXJhcyBCbGFjayBTZW1pQm9sZC50dGY=.png',\n",
       " 'RnJlZWRvbSBFeHRlbmRlZCBJdGFsaWMudHRm.png',\n",
       " 'Q29ycG9TTGlnIEJvbGQudHRm.png',\n",
       " 'QnJpZWluY2FybmF0aW9uLnR0Zg==.png',\n",
       " 'QmFieSBLcnVmZnkudHRm.png',\n",
       " 'QXZlcnlzSGFuZCBSZWd1bGFyLnR0Zg==.png',\n",
       " 'Q29tcGF0aWxGYWN0IExUIFJlZ3VsYXIgU21hbGwgQ2Fwcy50dGY=.png',\n",
       " 'Qm9kb25pU2V2SVRDLUJvb2tJdGFsLm90Zg==.png',\n",
       " 'QW1wbGl0dWRlRXh0cmFDb21wLUJvbGQudHRm.png',\n",
       " 'RXJhcyBSZWd1bGFyLnR0Zg==.png',\n",
       " 'RXllIGdsYXNzIEV4dGVuZGVkIEl0YWxpYy50dGY=.png',\n",
       " 'SVRDLUJlcmtlbGV5LU9sZC1TdHlsZS1CbGFjay5vdGY=.png',\n",
       " 'RHluYW1vRHhjRFhDLm90Zg==.png',\n",
       " 'Q2VudHVyeUlUQ2J5QlQtTGlnaHRDb25kSXRhbGljLm90Zg==.png',\n",
       " 'R2FsYXhpYSBOZWJ1bG91cy50dGY=.png',\n",
       " 'RmFnb0NvTGYub3Rm.png',\n",
       " 'RWxlcGhhbnQgVGhpbiBJdGFsaWMudHRm.png',\n",
       " 'SGVhZGxpbmUgV2lkZSBJdGFsaWMudHRm.png',\n",
       " 'Q2FzdG9yZ2F0ZSAtIE1lc3NlZC50dGY=.png',\n",
       " 'RGVsdGEtTWVkaXVtLm90Zg==.png',\n",
       " 'RmxldGNoIEV4dGVuZGVkIEJvbGRJdGFsaWMudHRm.png',\n",
       " 'RnJlZWhhbmQ1OTEgQm9sZC50dGY=.png',\n",
       " 'SG9iYml0IFNGLnR0Zg==.png',\n",
       " 'Q2FsbGlncmFwaDgxMCBCVCBSb21hbi50dGY=.png',\n",
       " 'QmVhckJ1dHRlVCBQbGFpbi50dGY=.png',\n",
       " 'RnJlZXplciBCVE4gQ29uZGVuc2VkIE9ibGlxdWUudHRm.png',\n",
       " 'QWxtb250ZS50dGY=.png',\n",
       " 'Q291cmllciBOZXcgQ0UgQm9sZCBJdGFsaWMudHRm.png',\n",
       " 'SG9ybGV5T2xkU3R5bGVNVFN0ZC1TYi5vdGY=.png',\n",
       " 'Q2hhbGV0Qm9vayBCb2xkLm90Zg==.png',\n",
       " 'Q2VudGVubmlhbC1CbGFjay5vdGY=.png',\n",
       " 'QWt6aWRlbnpHcm90ZXNrRXhwZXJ0QlEtTGlnaHRPc0Yub3Rm.png',\n",
       " 'RmFnb0NvTGYtQmxhY2tDYXBzLm90Zg==.png',\n",
       " 'QmVybGluZ0JRLVJlZ3VsYXIub3Rm.png',\n",
       " 'RHV0Y2g3NjYgQlQgSXRhbGljLnR0Zg==.png',\n",
       " 'Rm9ybWF0YUNvbmRlbnNlZEJRLUl0YWxpYy5vdGY=.png',\n",
       " 'QnJpZW1Ba2FkZW1pU3RkLVJlZ3VsYXIub3Rm.png',\n",
       " 'RG9nbWFCb2xkLm90Zg==.png',\n",
       " 'Q29iYWx0IE5vcm1hbC50dGY=.png',\n",
       " 'SVRDIENoZWx0ZW5oYW0gQm9vay5wZmI=.png',\n",
       " 'Q2FzbG9uVHdvVHdlbnR5Rm91ci1NZWRpdW0ub3Rm.png',\n",
       " 'QmlsbHV5LnR0Zg==.png',\n",
       " 'RXJhcyBJdGMgVCBFRSBMaWdodC5wZmI=.png',\n",
       " 'RWxlcGhhbnQgVGhpbiBCb2xkLnR0Zg==.png',\n",
       " 'MDRiXzA4LnR0Zg==.png',\n",
       " 'Qm9kb25pQy1JdGFsaWMub3Rm.png',\n",
       " 'QXJjaGUgQmxhY2sgQ29uZGVuc2VkIFNTaSBCbGFjayBDb25kZW5zZWQudHRm.png',\n",
       " 'QnViYmxlZG90SUNHRmluZVBvc2l0aXZlLnR0Zg==.png',\n",
       " 'Rml0emdlcmFsZCBCbGFjay50dGY=.png',\n",
       " 'RGlvcHRyaW4udHRm.png',\n",
       " 'RnV0dXJhIElDRyBYQm9sZCBPYmxpcXVlLnR0Zg==.png',\n",
       " 'RHluYW1vTHhjRFhDLm90Zg==.png',\n",
       " 'QmV0dGVyIE9mZiAxLnR0Zg==.png',\n",
       " 'Q29jb2EgVGhpbiBOb3JtYWwudHRm.png',\n",
       " 'Qm9kb25pQmVydENvbkJRLUJvbGRJdGFsaWMub3Rm.png',\n",
       " 'RnJhbmsgSXRhbGljLnR0Zg==.png',\n",
       " 'RnV0dXJhTFQtQm9va09ibGlxdWUub3Rm.png',\n",
       " 'Q2hpbGRzUGxheS1BZ2VOaW5lLm90Zg==.png',\n",
       " 'Q29uY29yZGUgTm92YSAoUikgRXhwZXJ0IEl0YWxpYyBPc0YudHRm.png',\n",
       " 'R2VvUGxhaW4udHRm.png',\n",
       " 'SVRDRnJhbmtsaW5Hb3RoaWNTdGQtQm9va0l0Lm90Zg==.png',\n",
       " 'SGVsdmV0aWNhTmV1ZUxULUNvbmRlbnNlZC5vdGY=.png',\n",
       " 'RnJhbmtmdXJ0R290aGljSGVhdnkgSXRhbGljLnR0Zg==.png',\n",
       " 'RGFuY2luU3RkLm90Zg==.png',\n",
       " 'R3VuaGVhZCBDaGljay50dGY=.png',\n",
       " 'R2ltZW5lbGxzIEl0YWxpYy50dGY=.png',\n",
       " 'Qml0c3RyZWFtIEFtZXJpZ28gQm9sZCBJdGFsaWMucGZi.png',\n",
       " 'RmVuaWNlLVVsdHJhT2JsaXF1ZS5vdGY=.png',\n",
       " 'Q2FudXRoLnR0Zg==.png',\n",
       " 'Qml0c3RyZWFtIFZlcmEgU2FucyBNb25vIE9ibGlxdWUudHRm.png',\n",
       " 'RnV0dXJhLUxpZ2h0Lm90Zg==.png',\n",
       " 'RnV0dXJhRUYtTGlnaHRDb25kLm90Zg==.png',\n",
       " 'Rm9ybXVsYS1NZWRpdW1JdGEub3Rm.png',\n",
       " 'QXBvbGxvTVQtU0Mub3Rm.png',\n",
       " 'RGVudmVyLU1lZGl1bS5vdGY=.png',\n",
       " 'SWJhbGxhbnRpbmVzLUJvbGQub3Rm.png',\n",
       " 'R290aGljIFNTaS50dGY=.png',\n",
       " 'RmF0U2FtLnBmYg==.png',\n",
       " 'Q2FzbG9uIDU0MCBJdGFsaWMucGZi.png',\n",
       " 'Rm9ybWF0YSBDb25kZW5zZWQgSXRhbGljIFNtYWxsIENhcHMgJiBPbGRzdHlsZSBGaWd1cmVzLnR0Zg==.png',\n",
       " 'RWxlbWVudGEtQm9sZC5vdGY=.png',\n",
       " 'Q2dQaGVuaXhBbWVyaWNhbi50dGY=.png',\n",
       " 'RGFsbGlhbmNlRmxvdXJpc2hlcy5vdGY=.png',\n",
       " 'R3JhZmlsb25lTExMaWdodC50dGY=.png',\n",
       " 'QmFzcXVlIFRoaW4gTm9ybWFsLnR0Zg==.png',\n",
       " 'Qmxhc3RlciBJbmZpbml0ZS50dGY=.png',\n",
       " 'Q2F4dG9uIExpZ2h0IEl0YWxpYyBCVC50dGY=.png',\n",
       " 'QWN0aW9uIElzLCBXaWRlciBKTC50dGY=.png',\n",
       " 'Q29udGV4dCBSZXByaXNlIENvbmRlbnNlZCBTU2kgQ29uZGVuc2VkLnR0Zg==.png',\n",
       " 'Q29wcGVycGxhdGVFRi1MaWdodC5vdGY=.png',\n",
       " 'RnV0dXJhIEJvbGQgQ29uZGVuc2VkLnBmYg==.png',\n",
       " 'Qm91Z2FuIEJvb2sgU1NpIEJvb2sudHRm.png',\n",
       " 'RmxvcmFEb3JhTkYudHRm.png',\n",
       " 'RW52aXNpb24tUm9tYW4ub3Rm.png',\n",
       " 'RFRMRmxlaXNjaG1hbm4tU1RCb2xkSXQub3Rm.png',\n",
       " 'QW1pbnRhQm9sZC50dGY=.png',\n",
       " 'QnV0dGVyZmx5IENocm9tb3NvbWUgQU9FLnR0Zg==.png',\n",
       " 'R291ZHlTYW5zSVRDYnlCVC1Cb2xkLm90Zg==.png',\n",
       " 'Rm9saW9CVC1MaWdodEl0YWxpYy5vdGY=.png',\n",
       " 'Q2hpY2FuZSBSZWd1bGFyLnR0Zg==.png',\n",
       " 'Q29tcGF0aWxMZXR0ZXIgTFQgUmVndWxhciBTbWFsbCBDYXBzLnR0Zg==.png',\n",
       " 'QmV0dGVyS2FtcCBCb2xkSXRhbGljLnR0Zg==.png',\n",
       " 'QXJjdHVydXMub3Rm.png',\n",
       " 'RnJlaWdodEJpZ0xpZ2h0SXRhbGljU0MudHRm.png',\n",
       " 'QXBvbGxvLVNlbWlCb2xkLm90Zg==.png',\n",
       " 'QUdhcmFtb25kLUJvbGQub3Rm.png',\n",
       " 'RXZlcmx5c0hhbmQgUmVndWxhci50dGY=.png',\n",
       " 'QmVhdXJlZ2FyZCBEaXNwbGF5IFNTaS50dGY=.png',\n",
       " 'Q2hlbHNleSBDb25kZW5zZWQgQm9sZCBJdGFsaWMudHRm.png',\n",
       " 'Q2FuY2VsbGFyZXNjYSBTY3JpcHQudHRm.png',\n",
       " 'Q2VudHVyeSBTY2hvb2xib29rIEJvbGQgSXRhbGljLnBmYg==.png',\n",
       " 'R29uemFsZXNTYW5zLnR0Zg==.png',\n",
       " 'RWFzdEJsb2NJQ0ctT3Blbi5vdGY=.png',\n",
       " 'RGFudGVNVFN0ZC1SZWd1bGFyLm90Zg==.png',\n",
       " 'Q2VudHVyeVN0ZC1VbHRyYUl0YWxpYy5vdGY=.png',\n",
       " 'Q2FzbG9uIEJvb2sgQkUgQm9sZC50dGY=.png',\n",
       " 'Q29sdW1idXNNVFN0ZC1Cb2xkSXRhbGljLm90Zg==.png',\n",
       " 'SElMT0dJTkNPTi50dGY=.png',\n",
       " 'SGFuZGljYXAub3Rm.png',\n",
       " 'RXNwcml0RUYtTWVkaXVtSXRhbGljLm90Zg==.png',\n",
       " 'QWxpZW4gTWFya3NtYW5SZWd1bGFyLnR0Zg==.png',\n",
       " 'RGVtb2NyYXRpY2FSZWd1bGFyT2xkc3R5bGUub3Rm.png',\n",
       " 'RFRMUGFyYWRveFRDYXBzLU1lZGl1bUl0YWxpYy5vdGY=.png',\n",
       " 'RkZGIEludGVyZmFjZTA3LnR0Zg==.png',\n",
       " 'R2FyYW1vbmROYXJyb3dDLUxpZ2h0SXRhbGljLm90Zg==.png',\n",
       " 'Rm9ybWF0aW9uIExpZ2h0LnR0Zg==.png',\n",
       " 'RnJlaWdodEJpZ0JvbGRJdGFsaWMudHRm.png',\n",
       " 'Qm9yZGVsbG8tU2hhZGVkLm90Zg==.png',\n",
       " 'QWlyIEZsb3cgQlROIEx0IE9ibGlxdWUudHRm.png',\n",
       " 'QW5nbG8tU2F4b24gQ2Fwcy50dGY=.png',\n",
       " 'Q29ycG9yYXRlIEEgRXhwZXJ0IExpZ2h0LnR0Zg==.png',\n",
       " 'RWxlbWVudGEtQm9sZEl0YWxpYy5vdGY=.png',\n",
       " 'QW5nZWxvLm90Zg==.png',\n",
       " 'QWdlbmRhdHlwZS1SZWd1bGFyLm90Zg==.png',\n",
       " 'R29sZGVuVHlwZVNDRUYtT3JpZ2luYWwub3Rm.png',\n",
       " 'QmFsbGFudGluZXNTY3JpcHRFRi1NZWRpdW0ub3Rm.png',\n",
       " 'Q2hhcmxpZSdzIEFuZ2xlcyBPdXRHcmFkaWVudC50dGY=.png',\n",
       " 'RWR3YXJkRWR3aW4gQm9sZC50dGY=.png',\n",
       " 'QXJub3ZhSVRDIFRULnR0Zg==.png',\n",
       " 'Qm9kb25pQlQtUm9tYW4ub3Rm.png',\n",
       " 'R2F6ei5vdGY=.png',\n",
       " 'R290aGljNzIwIEJUIEJvbGQgSXRhbGljLnR0Zg==.png',\n",
       " 'RGlza3VzTFRTdGQtQm9sZC5vdGY=.png',\n",
       " 'QmVsd2VFRi1Cb2xkLm90Zg==.png',\n",
       " 'Q2hvZGEudHRm.png',\n",
       " 'Q29tc2F0LU5hdnktVW5pdC5vdGY=.png',\n",
       " 'Qml0c3RyZWFtIElvd2FuIE9sZCBTdHlsZS5wZmI=.png',\n",
       " 'QWxiYXRyb3NzLnR0Zg==.png',\n",
       " 'QWJiZXkgTWVkaXVtIEV4dGVuZGVkLnR0Zg==.png',\n",
       " 'SGlnaGxhbmRlclN0ZC1NZWRpdW1JdGFsaWMub3Rm.png',\n",
       " 'Qm9va21hbiBCVCBJdGFsaWMudHRm.png',\n",
       " 'SGFuIFNvbG8gRXhwYW5kZWQudHRm.png',\n",
       " 'Q2VudHVyeTcyNUJULUl0YWxpYy5vdGY=.png',\n",
       " 'RnJhbmNpcy5vdGY=.png',\n",
       " 'RnV0dXJhIExpZ2h0IEl0YWxpYyBCVC50dGY=.png',\n",
       " 'RmxhdCBCcnVzaCBCb2xkSXRhbGljLnR0Zg==.png',\n",
       " 'Q29ycG9yYXRlU0V4cGVydEJRLUxpZ2h0Lm90Zg==.png',\n",
       " 'QmxldyBFeHRlbmRlZCBJdGFsaWMudHRm.png',\n",
       " 'Rm9yZXN0U2hhZGVkU3RkLm90Zg==.png',\n",
       " 'QlZHSGZldHRLdXJzaXYub3Rm.png',\n",
       " 'SE9VU0UzMDA5LVNwYWNlYWdlLUJsYWNrLUJldGEucGZi.png',\n",
       " 'RnJpelF1YWRyYXRhSVRDYnlCVC1Cb2xkLm90Zg==.png',\n",
       " 'RWxpY2l0U1NLIEJvbGQudHRm.png',\n",
       " 'RHJpcHB5LnR0Zg==.png',\n",
       " 'R291ZHlPbGRzdHlsZUgtU0MtSXRhbGljLm90Zg==.png',\n",
       " 'SGVhZGxpbmVNVFN0ZC1Cb2xkLm90Zg==.png',\n",
       " 'Q29sb255Lm90Zg==.png',\n",
       " 'R3Jla29EZWNvLnR0Zg==.png',\n",
       " 'SGlnaE5vb24gSXRhbGljLnR0Zg==.png',\n",
       " 'RW1wb3JpdW0ub3Rm.png',\n",
       " 'RnJlZVNldEMtQm9sZC5vdGY=.png',\n",
       " 'QWFiY2VkWEJvbGQudHRm.png',\n",
       " 'SHVtbnN0Nzc3IFhCbGtDbiBCVCBFeHRyYSBCbGFjay50dGY=.png',\n",
       " 'QW1lcmljYW5UeXBld3JpdGVyLUxpZ2h0Q29uZEEub3Rm.png',\n",
       " 'RHVjaGFtcEJvbGQub3Rm.png',\n",
       " 'RXhlcnQtQmxhY2tJdGFsaWMub3Rm.png',\n",
       " 'Rm9ybWF0YS1MaWdodC5vdGY=.png',\n",
       " 'RnJhbmNpcyBIaWdoIExpZ2h0ZWQgQ29uZGVuc2VkIE5vcm1hbC50dGY=.png',\n",
       " 'OEJhbGxTY3JpcHRTQ2Fwc1NTSyBJdGFsaWMudHRm.png',\n",
       " 'Q29vcEZvcmdlZC5wZmI=.png',\n",
       " 'Q3VzaGluZ0VGLUhlYXZ5SXRhbGljLm90Zg==.png',\n",
       " 'Qm90b25CUS1NZWRpdW1JdGFsaWMub3Rm.png',\n",
       " 'SHVtYW5pc3QgOTcwIEJvbGQucGZi.png',\n",
       " 'RHJhZ29uRUYtRXh0cmFCb2xkSXRhbGljLm90Zg==.png',\n",
       " 'Q29tc2F0LVVuaXQub3Rm.png',\n",
       " 'RGFya1dpbmQgQ29uZGVuc2VkIEl0YWxpYy50dGY=.png',\n",
       " 'QmluZ28ub3Rm.png',\n",
       " 'QmVsd2VTdGQtTGlnaHRJdGFsaWMub3Rm.png',\n",
       " 'Qm9zdG9uIFRyYWZmaWMudHRm.png',\n",
       " 'RmFnb0NvLUJvbGRJdGFsaWNDYXBzLm90Zg==.png',\n",
       " 'RXVyYXNpYSBDb25kZW5zZWQgQm9sZEl0YWxpYy50dGY=.png',\n",
       " 'R2lsbFNhbnNCUS1Cb2xkLm90Zg==.png',\n",
       " 'R291ZHlTYW5zU3RkLUJvb2sub3Rm.png',\n",
       " 'SG91c2VHb3RoaWNIRzIzVGV4dC1MaWdodC5vdGY=.png',\n",
       " 'R2FyYW1vbmQgUmVwcmlzZSBTU2kgQm9sZC50dGY=.png',\n",
       " 'RXllIGdsYXNzIFRoaW4gSXRhbGljLnR0Zg==.png',\n",
       " 'RHJhZ2dsZSBCUksudHRm.png',\n",
       " 'Q2hhcnRlcklUQ2J5QlQtQm9sZEl0YWxpYy5vdGY=.png',\n",
       " 'QlJFQUtCRUFULm90Zg==.png',\n",
       " 'RWxkcm9vbi50dGY=.png',\n",
       " 'RW1pZ3JlRmlmVGVlbi50dGY=.png',\n",
       " 'R2lvdmFubmlFRi1CbGFja0l0YWxpYy5vdGY=.png',\n",
       " 'R2xvdWNlc3Rlck1UU3RkLUJvbGRDb25kLm90Zg==.png',\n",
       " 'Q29yZGlhIE5ldyBCb2xkIEl0YWxpYy50dGY=.png',\n",
       " 'SGVsbGFzQ291ciBCb2xkLnR0Zg==.png',\n",
       " 'Q2hhbnNvbiBIZWF2eSBTRiBCb2xkIEl0YWxpYy50dGY=.png',\n",
       " 'R29uZG9saWVyZS50dGY=.png',\n",
       " 'RW5zY2hlZGUtTWVkaXVtLm90Zg==.png',\n",
       " 'RnV0dXJpc0V4dHJhIEN5cmlsbGljQC50dGY=.png',\n",
       " 'R2VvLnR0Zg==.png',\n",
       " 'Q2Fpcm9FeHRlbmRlZEl0YWxpYyBJdGFsaWMudHRm.png',\n",
       " 'QUdPbGRGYWNlQlEtQm9sZE91dGxpbmUub3Rm.png',\n",
       " 'R3JvdGVzcXVlTVQtTGlnaHRDb25kZW5zZWQub3Rm.png',\n",
       " 'RnJhbmtsaW5Hb3RoaWNFRi1EZW1pLm90Zg==.png',\n",
       " 'QWxwaGFiZXRTb3VwQlQtVGlsdC5vdGY=.png',\n",
       " 'Rm9saW9URUVCb2xDb24udHRm.png',\n",
       " 'QmFza2VydmlsbGUgQm9sZCBJdCBXaW45NUJUKDEpLnR0Zg==.png',\n",
       " 'SVRDIEN1c2hpbmcgSGVhdnkucGZi.png',\n",
       " 'Q2VudHVyeU9sZFN0eWxlU3RkLVJlZ3VsYXIub3Rm.png',\n",
       " 'RmxlbWlzaCBOb3JtYWwgTGVmdHkudHRm.png',\n",
       " 'Q2FsY3VsdXNMQ0RDYW1lby5vdGY=.png',\n",
       " 'Q291cmllcjEwIEJUIFJvbWFuLnR0Zg==.png',\n",
       " 'SG91c2VNb3ZlbWVudHMtUG9zdGVyLm90Zg==.png',\n",
       " 'QWR2ZW50dXJlciBMaWdodCBTRi50dGY=.png',\n",
       " 'QmVybGluU21hbGxDYXBzLnR0Zg==.png',\n",
       " 'R3Jvc2NoZW4gUmVndWxhci50dGY=.png',\n",
       " 'SHZTdHJpcGUtRXh0cmFCb2xkLnR0Zg==.png',\n",
       " 'Q2hlbWljYWwgUmVhY3Rpb24gQiAtQlJLLS50dGY=.png',\n",
       " 'Qm91Z2FuIEJsYWNrIFNTaSBCb2xkLnR0Zg==.png',\n",
       " 'Qmlja2hhbSBTY3JpcHQgVHdvLnR0Zg==.png',\n",
       " 'SGVsdmV0aWNhUm91bmRlZExULUJvbGRDb25kT2JsLm90Zg==.png',\n",
       " 'RDMgRWdvaXN0aXNtIGV4dHJhLnR0Zg==.png',\n",
       " 'QVRTbGltYmFjaC1NZWRpdW1JdGFsaWMub3Rm.png',\n",
       " 'RW52aWV3IExpZ2h0IEl0YWxpYy50dGY=.png',\n",
       " 'R291ZHlDYXRhbG9ndWVFRi1SZWd1bGFyLm90Zg==.png',\n",
       " 'Qm9kb25pREJsYS50dGY=.png',\n",
       " 'Q29wcGVycGxhdGUudHRm.png',\n",
       " 'R2FsYW50IFNoYWRvdy50dGY=.png',\n",
       " 'SGFuIFNvbG8gTGFzZXIudHRm.png',\n",
       " 'Q29tcGFjdGEucGZi.png',\n",
       " 'SG9nd2FydHNXaXphcmQudHRm.png',\n",
       " 'SVRDIEFtZXJpY2FuIFR5cGV3cml0ZXIgQm9sZCBBbHRlcm5hdGUucGZi.png',\n",
       " 'R2lnZ2xlcyBXaWdnbGVzIEJUTi50dGY=.png',\n",
       " 'Rm9ybXVsYS1FeHRyYUJvbGQub3Rm.png',\n",
       " 'QnJvY2h1cmUudHRm.png',\n",
       " 'R291ZHkgSGFuZHRvb2xlZC5wZmI=.png',\n",
       " 'RXF1aXBvaXplU2Fucy1SZWd1bGFyLm90Zg==.png',\n",
       " 'Rm91ckp1bHkudHRm.png',\n",
       " 'QmFydCBUaGluIEhlYXZ5IEJvbGQudHRm.png',\n",
       " 'R2FyYW1vbmQgUmV0cm9zcGVjdGl2ZSBPUyBTU2kgTm9ybWFsLnR0Zg==.png',\n",
       " 'SVRDIEF2YW50IEdhcmRlIEdvdGhpYyBFeHRyYSBMaWdodCBPYmxpcXVlLnBmYg==.png',\n",
       " 'Q2hlbHNleSBFeHRlbmRlZCBCb2xkIEl0YWxpYy50dGY=.png',\n",
       " 'RXVyZWthLU1lZGl1bS5vdGY=.png',\n",
       " 'Qm9kb25pSUNHLm90Zg==.png',\n",
       " 'RW5ncmF2ZXJzJyBSb21hbiBCb2xkIEJULnR0Zg==.png',\n",
       " 'SHVtYW5pc3Q3NzdCVC1FeHRyYUJsYWNrQi5vdGY=.png',\n",
       " 'Q29tcGF0aWxMZXR0ZXIgTFQgQm9sZCBTbWFsbCBDYXBzLnR0Zg==.png',\n",
       " 'Q29vcGVyQmxhRCBJdGFsaWMudHRm.png',\n",
       " 'RmxhdCBCcnVzaCBUaGluIE5vcm1hbC50dGY=.png',\n",
       " 'RHVzdGlzbW8gIEJvbGQgSXRhbGljLnR0Zg==.png',\n",
       " 'QW50aXF1YSAxMDEgTm9ybWFsLnR0Zg==.png',\n",
       " 'QXZhbnRHYXJkZUxULUNvbmREZW1pLm90Zg==.png',\n",
       " 'RHluYW1vRGNEQy5vdGY=.png',\n",
       " 'RnJhbmtsaW5JVENCUS1EZW1pSXRhbGljLm90Zg==.png',\n",
       " 'Nng3b2N0IEFsdGVybmF0ZSBSZWd1bGFyLnR0Zg==.png',\n",
       " 'RGlzdHJpY3QtTGlnaHQudHRm.png',\n",
       " 'QmFpbGV5U2Fuc0lUQ1N0ZC1Cb2xkLm90Zg==.png',\n",
       " 'R3JhcGhpdGVTdGQtTGlnaHRXaWRlLm90Zg==.png',\n",
       " 'SWNoYW50aWxseS1MaWdodC5vdGY=.png',\n",
       " 'SGVsdmV0aWNhTmV1ZUxULVRoaW5FeHQub3Rm.png',\n",
       " 'RmxhbWVuY29JbmxELnR0Zg==.png',\n",
       " 'RmFnb0V4TGYtQm9sZEl0YWxpYy5vdGY=.png',\n",
       " 'Q2VudHVyeSA3NTEgQm9sZCBJdGFsaWMucGZi.png',\n",
       " 'Q2FtYnJpZGdlLUxpZ2h0Lm90Zg==.png',\n",
       " 'QXVyYS1PdXRsaW5lT2JsaXF1ZS5vdGY=.png',\n",
       " 'QXJteSBDb25kZW5zZWQudHRm.png',\n",
       " 'Q29uY3Vyc29JdGFsaWFuIEJUTiBMaW5lZCBPYmxpcXVlLnR0Zg==.png',\n",
       " 'RnJpc2Fuc1N0ZC5vdGY=.png',\n",
       " 'SG9ycmVuZG91cy50dGY=.png',\n",
       " 'QnJpZW1TY3JpcHRTdGQtQmxhY2sub3Rm.png',\n",
       " 'Q2hpbnllbiAgTm9ybWFsLnR0Zg==.png',\n",
       " 'QklHQ1NIQUQgTGVmdHkudHRm.png',\n",
       " 'RmxvdXJpc2hCb2xkU3BlY2lhbC5vdGY=.png',\n",
       " 'R290aGFtUm91bmRlZC1Cb2xkSXRhbGljLm90Zg==.png',\n",
       " 'Q0NXaWxkV29yZHMtQm9sZEl0YWxpYy50dGY=.png',\n",
       " 'Q2FtYnJpZGdlLURlbWlCb2xkLm90Zg==.png',\n",
       " 'R290aGljIDcyMCBCb2xkIEJULnR0Zg==.png',\n",
       " 'QmVhc3QudHRm.png',\n",
       " 'RG9kZ2VyIENvbmRlbnNlZCBJdGFsaWMudHRm.png',\n",
       " 'RnV0dXJhTFQtQ29uZGVuc2VkTGlnaHRPYmwub3Rm.png',\n",
       " 'QmFsYW5jZUxpZ2h0LUl0YWxpYy5vdGY=.png',\n",
       " 'Q2hpbGFkYUlDRy1Vbm8ub3Rm.png',\n",
       " 'RmFnb05vLUJsYWNrQ2Fwcy5vdGY=.png',\n",
       " 'R2lsbCBTYW5zIE1ULnR0Zg==.png',\n",
       " 'Q29ycG9yYXRlRUV4cGVydEJRLUJvbGRJdGFsaWNPc0Yub3Rm.png',\n",
       " 'R2FyYW1vbmRFeHBCUS1SZWd1bGFyT3NGLm90Zg==.png',\n",
       " 'Q2hvd2RlcmhlYWQudHRm.png',\n",
       " 'RGlkb3QtSFRGLUI5Ni1Cb2xkLUl0YWwub3Rm.png',\n",
       " 'QW5kYWxlTW9ub01UU3RkLUJvbGQub3Rm.png',\n",
       " 'R2FsYW50LnR0Zg==.png',\n",
       " 'SGVsdmV0aWNhLU5hcnJvdy1Cb2xkLm90Zg==.png',\n",
       " 'R3Jhbml0ZS1TZW1pU3RlbmNpbC5vdGY=.png',\n",
       " 'QmxvdHRvb280MG96LnR0Zg==.png',\n",
       " 'RGFyayBIb3JzZSBTaGFkb3cudHRm.png',\n",
       " 'R2FyYW1vbmQtTm9ybWFsIEJvbGQgSXRhbGljLnR0Zg==.png',\n",
       " 'QmxvY2tVcC50dGY=.png',\n",
       " 'Q2FybWluYSBNZCBCVCBNZWRpdW0udHRm.png',\n",
       " 'Rm9yZWxsZS50dGY=.png',\n",
       " 'RnJhbmtlbkRvcmsgVGFsbC50dGY=.png',\n",
       " 'Q2xlYXJmYWNlIElUQyBCbGFjay50dGY=.png',\n",
       " 'RFRMRG9jdW1lbnRhVC1NZWRpdW0ub3Rm.png',\n",
       " 'RnJlbmNoIDExMS5wZmI=.png',\n",
       " 'SGlnaEZpdmUudHRm.png',\n",
       " 'RkZGIEFxdWFyaXVzIEJvbGQudHRm.png',\n",
       " 'RnV0dXJhIElDRyBCb29rLnR0Zg==.png',\n",
       " 'Qm9kb25pU2l4SVRDLUJvb2tJdGFsT1Mub3Rm.png',\n",
       " 'Qmxvb2R5LnR0Zg==.png',\n",
       " 'QXZlbmlyLU9ibGlxdWUub3Rm.png',\n",
       " 'QnJ1c2hCUS5vdGY=.png',\n",
       " 'RGlnaXRhbCBkcmVhbSBGYXQgTmFycm93LnR0Zg==.png',\n",
       " 'Q2VudG8gRXh0ZW5kZWQgQm9sZEl0YWxpYy50dGY=.png',\n",
       " 'QmFsdHJhR0Qub3Rm.png',\n",
       " 'Q2hlbHRlbmhhbUJULUl0YWxpYy5vdGY=.png',\n",
       " 'Q2VudHVyeU9TTVRTdGQtQm9sZEl0YWxpYy5vdGY=.png',\n",
       " 'Q2FzbG9uIENhbGxpZ3JhcGhpYyBJbml0aWFscy50dGY=.png',\n",
       " 'Q2hlbHRlbmhhbVN0ZC1Cb2xkLm90Zg==.png',\n",
       " 'R2x5cGhhTFRTdGQtT2JsaXF1ZS5vdGY=.png',\n",
       " 'Qm9kb25pVHdlSVRDLUJvbGQub3Rm.png',\n",
       " 'QWlyIEZsb3cgQlROIEh2IE9ibGlxdWUudHRm.png',\n",
       " 'QW1lcmljYW5HYXJhbW9uZEJULUl0YWxpYy5vdGY=.png',\n",
       " 'RWRpc29uRUYtU2VtaUJvbGRJdGFsaWMub3Rm.png',\n",
       " 'RGphbmdvIElUQyBTdGQub3Rm.png',\n",
       " 'QWt6aWRlbnpHcm90ZXNrQkUtWEJkQ25JdC5vdGY=.png',\n",
       " 'RXVyb3N0aWxlTFRTdGQtRGVtaU9ibGlxdWUub3Rm.png',\n",
       " 'QUdPbGRGYWNlQlEtT3V0bGluZS5vdGY=.png',\n",
       " 'RXllIGdsYXNzIFdpZGUgSXRhbGljLnR0Zg==.png',\n",
       " 'RXhwcmVzcyBEZWNvIEdvdGhpYyBTU2kudHRm.png',\n",
       " 'QmFsYW5jZS1MaWdodC5vdGY=.png',\n",
       " 'Q2hhbmV5IEV4dGVuZGVkIE5vcm1hbC50dGY=.png',\n",
       " 'RGlhbWFudGVFRi1SZWd1bGFySXRhbGljLm90Zg==.png',\n",
       " 'Q2VudHVyeSA3MjUgQ29uZGVuc2VkIEJULnR0Zg==.png',\n",
       " 'QmlubmVyRC50dGY=.png',\n",
       " 'SVRDIEJlbmd1aWF0IEJvbGQgSXRhbGljLnBmYg==.png',\n",
       " 'Q2hhcnRlciBJVEMgQm9sZCBCVC50dGY=.png',\n",
       " 'QnJpZW1TY3JpcHRTdGQtQm9sZC5vdGY=.png',\n",
       " 'QmVydGhhbS50dGY=.png',\n",
       " 'Q29tcGFjdGFTdGQtQm9sZC5vdGY=.png',\n",
       " 'R29ybG9jayAgQm9sZC50dGY=.png',\n",
       " 'Qm9kb25pIE9sZCBGYWNlIEJFIE1lZGl1bSBJdGFsaWMgT2xkc3R5bGUgRmlndXJlcy50dGY=.png',\n",
       " 'Qm9kb25pT2xkRmFjZUJFLVJlZ3VsYXIub3Rm.png',\n",
       " 'QmVybGluZXIgR3JvdGVzayBNZWRpdW0udHRm.png',\n",
       " 'Q2Fjb3Bob255IExvdWQudHRm.png',\n",
       " 'QW1lcmlnbyBCVCBCb2xkIEl0YWxpYy50dGY=.png',\n",
       " 'R291ZHktQm9sZEl0YWxpY09zRi5vdGY=.png',\n",
       " 'Q2VudHVyeUlUQ0NvbmRlbnNlZEJRLUxpZ2h0Lm90Zg==.png',\n",
       " 'Q2VudHVyeUlUQ0JRLUxpZ2h0Lm90Zg==.png',\n",
       " 'QWlybW9sZSBBbnRpcXVlLnR0Zg==.png',\n",
       " 'RFRMVmFuZGVuS2VlcmVEQ2Fwcy1Cb2xkLm90Zg==.png',\n",
       " 'RHVlIERhdGUudHRm.png',\n",
       " 'R2F0ZXdheS1CMS5vdGY=.png',\n",
       " 'RWxmcmluZyBFbGl0ZUxpZ2h0LnR0Zg==.png',\n",
       " 'R2lzaGEudHRm.png',\n",
       " 'RWxlcGhhbnQgQm9sZC50dGY=.png',\n",
       " 'Q2Fybml2YWwub3Rm.png',\n",
       " 'Rm9udFNvdXBDYXRhbGFuLVJlZ3VsYXIub3Rm.png',\n",
       " 'RnJlbmNoMTExQlQtUmVndWxhci5vdGY=.png',\n",
       " 'RW5nbGlzY2hlU2NocmVpYnNjaHJUd29CUS1NZWRpdW0ub3Rm.png',\n",
       " 'QWt6aWRlbnotR3JvdGVzayAoUikgU2NodWxidWNoIDIgUmVndWxhci50dGY=.png',\n",
       " 'RXVyb3N0aWxlVEJsYS50dGY=.png',\n",
       " 'QmF1ZXJCb2RvbmlCVC1CbGFjay5vdGY=.png',\n",
       " 'QW1lcmljYW5UeXBld3JpdGVyU3RkLUx0Q25kLm90Zg==.png',\n",
       " 'QnJ1c2htYW4udHRm.png',\n",
       " 'Q29ycG9yYXRlQVNDLUJvbGQub3Rm.png',\n",
       " 'Q2xhc3NpY2EtSXRhbGljLnR0Zg==.png',\n",
       " 'Q2hpbmVzZSBCcnVzaC50dGY=.png',\n",
       " 'R3JhcGhpdW0gUmVndWxhci50dGY=.png',\n",
       " 'Q2xlYXJmYWNlIElUQyBCbGFjayBJdGFsaWMudHRm.png',\n",
       " 'RW1icnVzaC50dGY=.png',\n",
       " 'RHV0Y2ggODAxIEJvbGQgSXRhbGljLnBmYg==.png',\n",
       " 'R290aGljODIxIENuIEJULnR0Zg==.png',\n",
       " 'Q2hvcml6by50dGY=.png',\n",
       " 'Nng3b2N0IEFsdGVybmF0ZSBFeHRyYUxpZ2h0LnR0Zg==.png',\n",
       " 'RnV0dXJhSUNHLUJvbGQub3Rm.png',\n",
       " 'Q2xvaXN0ZXJTdGQtT3BlbkZhY2Uub3Rm.png',\n",
       " 'RnV0dXJpc1NoYWRvd0Mub3Rm.png',\n",
       " 'Q29ycG9BLnR0Zg==.png',\n",
       " 'Qm9vemxlIERpc3BsYXkgU1NpIEl0YWxpYy50dGY=.png',\n",
       " 'Q29tbXVuaXR5U2VydmljZSBCbGFjay50dGY=.png',\n",
       " 'QmVybGluc2Fucy1Cb2xkRXhwZXJ0Lm90Zg==.png',\n",
       " 'SGlnaHN0YWtlcyBSZWd1bGFyLnR0Zg==.png',\n",
       " 'QW1UeXBld3JpdGVyRUYtQm9sZEl0YWxpYy5vdGY=.png',\n",
       " 'QmVya2VsZXkgT2xkc3R5bGUgSXRhbGljLnR0Zg==.png',\n",
       " 'Rm9saW8tQm9sZENvbmRlbnNlZC5vdGY=.png',\n",
       " 'QmFuY29JVENTdGQtTGlnaHQub3Rm.png',\n",
       " 'SHVtYW5hU2Fuc0lUQ1N0ZC1NZWRpdW0ub3Rm.png',\n",
       " 'RXhvdGMzNTAgRG1CZCBCVCBEZW1pLUJvbGQudHRm.png',\n",
       " 'Q2xlb3BhdHJhLm90Zg==.png',\n",
       " 'Q291cmllci1Cb2xkT2JsaXF1ZS5vdGY=.png',\n",
       " 'QXJpYWxSb3VuZGVkTVRTdGQtQm9sZC5vdGY=.png',\n",
       " 'RWxlcGhhbnQgQ29uZGVuc2VkIEJvbGRJdGFsaWMudHRm.png',\n",
       " 'SG9uZGFGb250Lm90Zg==.png',\n",
       " 'QnVybmluZyBMaWdodC50dGY=.png',\n",
       " 'RmlsdGVDYXN1YWwudHRm.png',\n",
       " 'RnV0dXJhQ29uZE1lZGl1bS5vdGY=.png',\n",
       " 'QXBwbGUgR2FyYW1vbmQgQm9vayBCVC50dGY=.png',\n",
       " 'RlogQkFTSUMgMTIgSVRBTElDLnR0Zg==.png',\n",
       " 'RDMgUm9hZHN0ZXJpc20gTG9uZy50dGY=.png',\n",
       " 'QmFsc2Ftby50dGY=.png',\n",
       " 'QnVkSGFuZCBSZWd1bGFyLnR0Zg==.png',\n",
       " 'SVRDIFVzaGVyd29vZCBNZWRpdW0ucGZi.png',\n",
       " 'Q2VyaWdvRUYtQm9sZEl0YWxpYy5vdGY=.png',\n",
       " 'R2FsbGVyeSBDb25kZW5zZWQgTm9ybWFsLnR0Zg==.png',\n",
       " 'RnJhbmNpcyBHb3RoaWMgUmVkdWNlZCBJdGFsaWMudHRm.png',\n",
       " 'Q2hvcmVhIERpc3BsYXkgU1NpIEJsYWNrLnR0Zg==.png',\n",
       " 'QWNhbnRodXMgU1NpIEl0YWxpYy50dGY=.png',\n",
       " 'QXN0cm9PYmxpcXVlLnR0Zg==.png',\n",
       " 'QnVzb3JhbWFMaWdodC5vdGY=.png',\n",
       " 'Q2xhc3NpY2FsR2FyYW1vbmRCVC1Sb21hbi5vdGY=.png',\n",
       " 'R2FyZGVuemkgLSBEZW1pT2JsaXF1ZS50dGY=.png',\n",
       " 'Qm9kb25pQmF1ZXJCUS1SZWd1bGFyLm90Zg==.png',\n",
       " 'R3JlZW4gRnV6LnR0Zg==.png',\n",
       " 'Q2FwaXRhbHMudHRm.png',\n",
       " 'QXV0b21hdGljUmVndWxhckV4cGVydC5vdGY=.png',\n",
       " 'SHV0Y2hpbnNvbi5vdGY=.png',\n",
       " 'Qm9va21hbiBSZWd1bGFyLnR0Zg==.png',\n",
       " 'Qm9kb25pIFNpeCBPUyBJVEMgVFQgQm9sZC50dGY=.png',\n",
       " 'OXNxZ3JkIFRoaW4udHRm.png',\n",
       " 'QmVybGluZ0VGLVJlZ3VsYXIub3Rm.png',\n",
       " 'RXJhcyBCb29rIEJULnR0Zg==.png',\n",
       " 'RFRMVmFuZGVuS2VlcmVTRC1JdGFsaWMub3Rm.png',\n",
       " 'R291ZHlDYXRhbG9ndWVCVC1SZWd1bGFyLm90Zg==.png',\n",
       " 'QW1lcmljYW5UeXBld3JpdGVyQlEtTWVkaXVtLm90Zg==.png',\n",
       " 'SGFuIFNvbG8gUHJvLnR0Zg==.png',\n",
       " 'Qm9kb25pLUJvbGRJdGFsaWMub3Rm.png',\n",
       " 'R2VvbWV0cmljIDIzMSBMaWdodC5wZmI=.png',\n",
       " 'QXJpYWxNVFN0ZC1FeHRyYUJvbGRJdC5vdGY=.png',\n",
       " 'R2xvcmlldHRhLm90Zg==.png',\n",
       " 'QnJ1aG5TY3JpcHQtU3RyYWlnaHRlbmVkLm90Zg==.png',\n",
       " 'Rm9saW8gSUNHLnR0Zg==.png',\n",
       " 'QmVya2VsZXlPbGRzdHlsZUJvbGQub3Rm.png',\n",
       " 'QW1wbGl0dWRlRXh0cmFDb21wLU1lZGl1bS50dGY=.png',\n",
       " 'Qm9kb25pT2xkRmFjZUV4cEJRLU1lZGl1bS5vdGY=.png',\n",
       " 'RGFudGVNVFN0ZC1JdGFsaWMub3Rm.png',\n",
       " 'R2FyYW1vbmQgSXRjIFQgRUUgQm9sZCBDb25kZW5zZWQucGZi.png',\n",
       " 'QmFpbGV5IFNhbnMgSVRDIEJvb2sudHRm.png',\n",
       " 'RWxnZXRoeSBVcHBlci50dGY=.png',\n",
       " 'RGlzdHJvIEJsYWNrLnR0Zg==.png',\n",
       " 'R2VvbWV0cmljIFNsYWJzZXJpZiA3MTIgTGlnaHQgQlQudHRm.png',\n",
       " 'Q29uY3Vyc29Nb2Rlcm5lIEJUTiBMdC50dGY=.png',\n",
       " 'RkZGIEludGVyZmFjZTAyYi50dGY=.png',\n",
       " 'Qm9kb25pT2xkRmFjZUJRLUl0YWxpYy5vdGY=.png',\n",
       " 'QnJhc3NmaWVsZCBSZWd1bGFyLnR0Zg==.png',\n",
       " 'Q2xhaXJ2YXV4TFRTdGQub3Rm.png',\n",
       " 'QmF0aCBMaWdodEl0YWxpYy50dGY=.png',\n",
       " 'RmVkZXJhdGlvbkNsYXNzaWMudHRm.png',\n",
       " 'RFRMQXJnb1NULUJsYWNrLm90Zg==.png',\n",
       " 'QWR2ZXJ0Um91Z2gtT25lLm90Zg==.png',\n",
       " 'QWNoZSBUaGluLnR0Zg==.png',\n",
       " 'Q2FyZ28gVHdvIFNGLnR0Zg==.png',\n",
       " 'RXJpYyBMaXRlIEV4dGVuZGVkIEJvbGRJdGFsaWMudHRm.png',\n",
       " 'Q2xvY2t3b3JrIFJlZ3VsYXIudHRm.png',\n",
       " 'SHVtYW5zdDUzMSBCVCBCb2xkLnR0Zg==.png',\n",
       " 'RnJlZXN0eWxlU2NyaXB0RC1Cb2xkLm90Zg==.png',\n",
       " 'RFRMRmxlaXNjaG1hbm5ELUNhcHMub3Rm.png',\n",
       " 'QmVuZ3VpYXRDb25kZW5zZWRCUS1Cb29rSXRhbGljLm90Zg==.png',\n",
       " 'Q2hhcnJpbmd0b24gV2lkZS50dGY=.png',\n",
       " 'QmVybGluIFNhbnMgRkIudHRm.png',\n",
       " 'Q291cmllckMtT2JsaXF1ZS5vdGY=.png',\n",
       " 'RW5ncmF2ZXJzJyBSb21hbiBCVC50dGY=.png',\n",
       " 'QmV0YSBCbG9jay50dGY=.png',\n",
       " 'MTIgV2FsYmF1bSBJdGFsaWMgMTMyNjMudHRm.png',\n",
       " 'QmV0dGVyVHlwZVJpZ2h0IEJvbGRJdGFsaWMudHRm.png',\n",
       " 'SGFwcHkgRGF5cyBVcHJpZ2h0LnR0Zg==.png',\n",
       " 'RWRpdC1Cb2xkLm90Zg==.png',\n",
       " 'RW5nbGFuZCBCb2xkSXRhbGljLnR0Zg==.png',\n",
       " 'RmxvcmEudHRm.png',\n",
       " 'RmlndXJueS50dGY=.png',\n",
       " 'RHVjRGVCZXJyeS5vdGY=.png',\n",
       " 'QWxwaGEgRmxpZ2h0LnR0Zg==.png',\n",
       " 'RmxldGNoIFdpZGUgQm9sZEl0YWxpYy50dGY=.png',\n",
       " 'R2lsbFNhbnNNVFN0ZC1Cb2xkLm90Zg==.png',\n",
       " 'SHVtYW5pc3QgNTIxIEJvbGQgQ29uZGVuc2VkIEJULnR0Zg==.png',\n",
       " 'Q3VybHpNVFN0ZC1SZWd1bGFyLm90Zg==.png',\n",
       " 'SGFyZHkudHRm.png',\n",
       " 'Q2xhcmVuZG9uIEh2IEJUIEhlYXZ5LnR0Zg==.png',\n",
       " 'Qm9uayBPdXRlcmN1dC50dGY=.png',\n",
       " 'RFRMTm9iZWxUTGlnaHQtSXRhbGljLm90Zg==.png',\n",
       " 'SVRDIENoYXJ0ZXIgSXRhbGljLnBmYg==.png',\n",
       " 'QmFza2VydmlsbGVFRi1NZWRpdW0ub3Rm.png',\n",
       " 'Q291cmllckMtQm9sZC5vdGY=.png',\n",
       " 'Q29tcGFjdGEgSUNHIEJvbGRJdGFsaWMudHRm.png',\n",
       " 'QmVtYm9JbmZhbnRNVFN0ZC1Cb2xkSXQub3Rm.png',\n",
       " 'Q2F2ZSBHeXJsLnR0Zg==.png',\n",
       " 'Q291cmllci1Cb2xkLm90Zg==.png',\n",
       " 'QW5kcmV3QW5keUthY3R1cy50dGY=.png',\n",
       " 'RWxla3RyaXgtTGlnaHQudHRm.png',\n",
       " 'Q2FudG9yaWEgTVQgRXh0cmFCb2xkLnR0Zg==.png',\n",
       " 'Q2VudHVyeSBPbGRzdHlsZS5wZmI=.png',\n",
       " 'Q2hvY0lDRy5vdGY=.png',\n",
       " 'Qml0c3RyZWFtIEFycnVzIEJsYWNrLnBmYg==.png',\n",
       " 'R0UgRWxlZ2FudFNjcmlwdC50dGY=.png',\n",
       " 'RVBJU09ERSBJLnR0Zg==.png',\n",
       " 'RXhjZWxzaW9yLm90Zg==.png',\n",
       " 'Q2lyY3VsYXRlIChCUkspLnR0Zg==.png',\n",
       " 'Q2hpYW50aSBYQmRJdCBPU0YgQlQgRXh0cmEgQm9sZCBJdGFsaWMudHRm.png',\n",
       " 'QW4gaXJyaXRhdGluZyBzcGVjay50dGY=.png',\n",
       " 'RnVqaSBOb3JtYWwudHRm.png',\n",
       " 'Q29tcGFjdEMtQm9sZEl0YWxpYy5vdGY=.png',\n",
       " 'RW5zaWduIEZsYW5kcnkudHRm.png',\n",
       " 'QmVsbEdvdGhpY1N0ZC1CbGFjay5vdGY=.png',\n",
       " 'QnJvZHkgUmVndWxhci50dGY=.png',\n",
       " 'QWlyZm9pbCBTY3JpcHQgU1NpLnR0Zg==.png',\n",
       " 'QXRtb3NwaGVyZUlUQ1N0ZC5vdGY=.png',\n",
       " 'RGlkb3QtSFRGLU0wNi1NZWRpdW0ub3Rm.png',\n",
       " 'Qm9va21hbklUQ1N0ZC1MaWdodEl0YWxpYy5vdGY=.png',\n",
       " 'Q29mZmVlIFNob3AudHRm.png',\n",
       " 'QnJpZGdld29yay5vdGY=.png',\n",
       " 'Q29wYSBTaGFycCBCVE4gU2hhZG93LnR0Zg==.png',\n",
       " 'RnJhbmtmdXJ0ZXJIaWdELnR0Zg==.png',\n",
       " 'QWRvYmVBcmFiaWMtQm9sZEl0YWxpYy5vdGY=.png',\n",
       " 'Q2VudHVyeSBTY2hvb2xib29rIEl0YWxpYy5wZmI=.png',\n",
       " 'QW50aXF1ZUFuY2llbm5lQ0UtSXRhbGljLm90Zg==.png',\n",
       " 'Qmxpc3MgQm9sZC50dGY=.png',\n",
       " 'Q29hZ3VsYXRlLnR0Zg==.png',\n",
       " 'R2FyYW1vbmRQcmVtclByby1NZWRTdWJoLm90Zg==.png',\n",
       " 'NXRoR3JhZGVyLnR0Zg==.png',\n",
       " 'RnJ1dGlnZXJOZXh0TFQtTGlnaHQub3Rm.png',\n",
       " 'QmFzZU5pbmVTbWFsbENhcHMgQm9sZCBJdGFsaWMudHRm.png',\n",
       " 'Qm9kaWUgTUYgRmxhZy50dGY=.png',\n",
       " 'RXRjZXRlcmEudHRm.png',\n",
       " 'QWxwaGEgRmxpZ2h0IFNvbGlkIFNtYWxsIENhcHMudHRm.png',\n",
       " 'Q29tcGVuZGl1bSBCbGFjayBTU2kgQmxhY2sudHRm.png',\n",
       " 'RFRMTm9iZWxULm90Zg==.png',\n",
       " 'QmF1ZXJCb2RvbmlCVC1UaXRsaW5nLm90Zg==.png',\n",
       " 'RHVuZGFsa0VtYm9zc2VkLnR0Zg==.png',\n",
       " 'R2FyYW1vbmRQcmVtclByby5vdGY=.png',\n",
       " 'RXBweSBFdmFucyBSb3VuZC50dGY=.png',\n",
       " 'RXJpYyBCbGFjay50dGY=.png',\n",
       " 'R2lnaS50dGY=.png',\n",
       " 'SHVtYW5hIEV4LnR0Zg==.png',\n",
       " 'Qm9va21hbkJRLURlbWlCb2xkLm90Zg==.png',\n",
       " 'SWNvbmUgTFQgRXh0cmEgQmxhY2sgT3NGLnR0Zg==.png',\n",
       " 'QnJ1Y2VzSGFuZCBSZWd1bGFyLnR0Zg==.png',\n",
       " 'RGlhbWFudGUtQm9sZEl0YS5vdGY=.png',\n",
       " 'QmFza2VydmlsbGVULnR0Zg==.png',\n",
       " 'Rm9sa3NCbGFjay50dGY=.png',\n",
       " 'R2Fzb2xpbmUgU2FucyBCVE4gQm9sZE9ibGlxdWUudHRm.png',\n",
       " 'SGFuZGVsR290T25sU2hhRC1MaWdoLm90Zg==.png',\n",
       " 'Q2FuZHkgQ2FuZSBNYXRjaC50dGY=.png',\n",
       " 'QXZhbnRHYXJkZUxULUNvbmRCb29rLm90Zg==.png',\n",
       " 'RmVuaWNlRUYtTGlnaHQub3Rm.png',\n",
       " 'RXJhc0VGLUJvbGQub3Rm.png',\n",
       " 'R291ZHkgT2xkIFN0eWxlIEl0YWxpYyBCVC50dGY=.png',\n",
       " 'RGluZXIgRmF0dC50dGY=.png',\n",
       " 'R2FycmljayBUaGluIE5vcm1hbC50dGY=.png',\n",
       " 'RnJhbmtsaW5Hb3RoaWMtTWVkQ25kLm90Zg==.png',\n",
       " 'RFRMQ2FzcGFyaVNULUJvbGQub3Rm.png',\n",
       " 'QWdlbmRhLUxpZ2h0RXh0cmFDb25kZW5zZWQub3Rm.png',\n",
       " 'R290aGFtUm91bmRlZC1MaWdodEl0YWxpYy5vdGY=.png',\n",
       " 'Q2lyY3VsYXIgRkMudHRm.png',\n",
       " 'Q3Jvbm9zUHJvLUJvbGRDYXB0SXQub3Rm.png',\n",
       " 'Q2VudHVyeUlUQ2J5QlQtQm9sZENvbmRlbnNlZC5vdGY=.png',\n",
       " 'QnJ1bm9KQi5vdGY=.png',\n",
       " 'RWd5cHRpZW5uZUYtQmxhY2sub3Rm.png',\n",
       " 'Qm9ndXNmbG93LnR0Zg==.png',\n",
       " 'QmVydHJhbS50dGY=.png',\n",
       " 'QWJpbGVuZUZMRi5vdGY=.png',\n",
       " 'QnJvYWR3YXlQLnR0Zg==.png',\n",
       " 'RXZvQlEtTWVkaXVtSXRhbGljLm90Zg==.png',\n",
       " 'Q29uY3Vyc29Nb2Rlcm5lIEJUTiBXaWRlIE9ibGlxdWUudHRm.png',\n",
       " 'RmlndXJhbFN0ZC1NZWRpdW0ub3Rm.png',\n",
       " 'Q2VubmVyaWsgUGxhaW4udHRm.png',\n",
       " 'QXVyaW9sLUJvbGRJdGFsaWMub3Rm.png',\n",
       " 'RmFuZGFuZ28ub3Rm.png',\n",
       " 'QnVybm91dEEudHRm.png',\n",
       " 'Rm9ybWF0YS1JdGFsaWNTQy5vdGY=.png',\n",
       " 'Q2xhcmVuZG9uIEJsYWNrLnBmYg==.png',\n",
       " 'Q3J1c3RpRXN0LnR0Zg==.png',\n",
       " 'QnJ1aXNlZCBUd2VudHlGaXZlLnR0Zg==.png',\n",
       " 'Rm9ybWF0YUJRLU1lZGl1bS5vdGY=.png',\n",
       " 'RFRMRG9yaWFuU1QtQmxhY2sub3Rm.png',\n",
       " 'RXdpbmdzSGFuZCBSZWd1bGFyLnR0Zg==.png',\n",
       " 'Q2FzbG9uSUNHLVRpdGxpbmcub3Rm.png',\n",
       " 'Q2hlcmllIElUQy50dGY=.png',\n",
       " 'RkZGIEFjY2VzcyBFeHRlbmRlZC50dGY=.png',\n",
       " 'RFRMUm9tdWx1c1NUTWVkaXVtLm90Zg==.png',\n",
       " 'QmxpbmRmaXNoTGlnaHQub3Rm.png',\n",
       " 'RmFnb05vTGYtQ2Fwcy5vdGY=.png',\n",
       " 'Q3Jvbm9zUHJvLUNhcHRJdC5vdGY=.png',\n",
       " 'Q2F0dWxsIChSKSBNZWRpdSBPc0YudHRm.png',\n",
       " 'QW1lcmlnbyBCVCBCb2xkLnR0Zg==.png',\n",
       " 'QmFza2VydmlsbGVCVC1Sb21hbi5vdGY=.png',\n",
       " 'QUJTOS50dGY=.png',\n",
       " 'R2FyYW1vbmRFRi1Cb2xkLm90Zg==.png',\n",
       " 'R290aGljNzIwIEJUIFJvbWFuLnR0Zg==.png',\n",
       " 'QXZhbnRHYXJkZUlUQ2J5QlQtQm9va09ibGlxdWUub3Rm.png',\n",
       " 'RGVsbGEgUm9iYmlhIEJULnR0Zg==.png',\n",
       " 'RXVudXZlcnNlLUl0YWxpYy5vdGY=.png',\n",
       " 'QmVla21hbi1TcXVhcmVCb2xkLm90Zg==.png',\n",
       " 'QXBvbGxvTVQtU2VtaUJvbGQub3Rm.png',\n",
       " 'QXZhbnRHYXJkZUlUQy1Cb29rT2JsaXF1ZS5vdGY=.png',\n",
       " 'QWdmYVJvdGlzU2VtaXNhbnNMaWdodC1JdGFsaWMub3Rm.png',\n",
       " 'Q2FtZWxpYSBSZWd1bGFyLnR0Zg==.png',\n",
       " 'Q29tcGFjdGEgQmxhY2sucGZi.png',\n",
       " 'QXVndXN0YVNjaG51cmtsU3RkLVJlZy5vdGY=.png',\n",
       " 'R2lsZ29uZ28gTXV0b21iby50dGY=.png',\n",
       " 'Q29udGV4dCBTZW1pIENvbmRlbnNlZCBTU2kgU2VtaSBDb25kZW5zZWQudHRm.png',\n",
       " 'Q2xhcml0eSBHb3RoaWMgU0YudHRm.png',\n",
       " 'Qm9iYmllc0hhbmQudHRm.png',\n",
       " 'Q2lyY3VtY2lzaW9uLUJvbGQub3Rm.png',\n",
       " 'QmVuZ3VpYXRHb3RoaWMtTWVkaXVtLm90Zg==.png',\n",
       " 'RmxhdCBCcnVzaCBUaGluIEJvbGRJdGFsaWMudHRm.png',\n",
       " 'QW5Ba3JvbmlzbS50dGY=.png',\n",
       " 'QmF5ZXJFeHBlcmltZW50LnR0Zg==.png',\n",
       " 'SVRDQXZhbnRHYXJkZVN0ZC1YTHRDbk9ibC5vdGY=.png',\n",
       " 'Qm9va2VyLm90Zg==.png',\n",
       " 'R3JpZmZpdGhHb3RoaWMtQmxhY2sub3Rm.png',\n",
       " 'QWluc2RhbGUtQm9sZEl0YWxpYy5vdGY=.png',\n",
       " 'QW1lcmljYW5UeXBlQm9sZC5vdGY=.png',\n",
       " 'R2F6ei1QYWludC5vdGY=.png',\n",
       " 'MTJTYXJ1WWVsbG93Rm9nLnR0Zg==.png',\n",
       " 'QW50aXF1ZU9saXZlU3RkLUl0YWxpYy5vdGY=.png',\n",
       " 'Q29udGluZW50YWxSYWlsd2F5LnBmYg==.png',\n",
       " 'R2FtbWFFRi1CbGFja0l0YWxpYy5vdGY=.png',\n",
       " 'R3JvdmVyIEl0YWxpYy50dGY=.png',\n",
       " 'Q2Fzc2FuZHJhLnR0Zg==.png',\n",
       " 'QW1wb3VsZSBIZWF2eS50dGY=.png',\n",
       " 'Q29uY29yZGVCRS1Cb2xkQ24ub3Rm.png',\n",
       " 'Q2hhcGFycmFsUHJvLUxpZ2h0SXRDYXB0Lm90Zg==.png',\n",
       " 'QWt6aWRlbnpHcm90RXh0QlEtUmVndWxhci5vdGY=.png',\n",
       " 'QWVvc0xpZ2F0dXJlLm90Zg==.png',\n",
       " 'Q2VudHVyeSBHb3RoaWMudHRm.png',\n",
       " 'QW50aHJvUG9zb3BoLUJvbGQudHRm.png',\n",
       " 'Q2hpYW50aSBHWCBCVC50dGY=.png',\n",
       " 'RmxvcmlhdGVkIEdpbGwudHRm.png',\n",
       " 'RGlnaUdyb3Rlc2tORUYtQm9sZENvbmRlbnMub3Rm.png',\n",
       " 'RnJlZWZybTcxMCBCVC50dGY=.png',\n",
       " 'SVRDIEdvdWR5IFNhbnMgTGlnaHQucGZi.png',\n",
       " 'QmVuZ3VpYXQgRnJpc2t5IEFUVC50dGY=.png',\n",
       " 'RGF2aWRhRUYub3Rm.png',\n",
       " 'RWlkZXRpY05lby1JdGFsaWMub3Rm.png',\n",
       " 'Q2xlYXJnb3RoaWMtUmVndWxhckl0YS5vdGY=.png',\n",
       " 'RHJ5IEdvb2RzIE5hcnJvdyBKTC50dGY=.png',\n",
       " 'RkZGIEludGVyZmFjZTA2Yi50dGY=.png',\n",
       " 'Q29udGV4dCBSZXByaXNlIE1lZGl1bSBTU2kgTWVkaXVtLnR0Zg==.png',\n",
       " 'QmFydCBIZWF2eSBJdGFsaWMudHRm.png',\n",
       " 'QmVuZ3VpYXRHb3RoaWNCUS1Cb2xkSXRhbGljLm90Zg==.png',\n",
       " 'Q2hlbHRlbmhhbUlUQ0JRLUJvb2sub3Rm.png',\n",
       " 'QmVydGhvbGQgV2FsYmF1bSBCb29rIE1lZGl1bSBJdGFsaWMgT2xkc3R5bGUgRmlndXJlcy5wZmI=.png',\n",
       " 'SG9saWRheS1JbmRpYS50dGY=.png',\n",
       " 'RFRMUGFyYWRveFQtTWVkaXVtLm90Zg==.png',\n",
       " 'SGVsdmV0aWNhTmV1ZUxULVRoaW5FeHRPYmwub3Rm.png',\n",
       " 'Q29tZW5pdXNCUS1NZWRpdW0ub3Rm.png',\n",
       " 'Q2xpcGUgT3Blbi50dGY=.png',\n",
       " 'SGVsdmV0aWNhLUNvbmRlbnNlZC1UaGluLnR0Zg==.png',\n",
       " 'RnJlZWZybTcyMSBCVCBCb2xkLnR0Zg==.png',\n",
       " 'QXVyZWFVbHRyYS1JdGFsaWMub3Rm.png',\n",
       " 'R2VvbWV0cjIzMSBCVCBSb21hbi50dGY=.png',\n",
       " 'QnVyaW5TYW5zU3RkLm90Zg==.png',\n",
       " 'Q2xlYXJmYWNlTVRTdGQtQm9sZC5vdGY=.png',\n",
       " 'QmVsbENlbnQgU3ViQ2FwIEJUIFN1Yi1DYXB0aW9uLnR0Zg==.png',\n",
       " 'QXZhbG9uLm90Zg==.png',\n",
       " 'RmF1eENSQS1JdGFsaWMub3Rm.png',\n",
       " 'R2VvbWV0cmljU2xhYjcwM0JULU1lZGl1bUl0YWxpYy5vdGY=.png',\n",
       " 'QXJtYWRhLUJsYWNrQ29tcHJlc3NlZC5vdGY=.png',\n",
       " 'Qm9kb25pQkUtUmVndWxhci5vdGY=.png',\n",
       " 'R2FzY29nbmUtWGxpZ2h0Lm90Zg==.png',\n",
       " 'RXNwcml0IEl0YWxpYy50dGY=.png',\n",
       " 'SGFsbG9kb2xseS5vdGY=.png',\n",
       " 'SG9iYnkgV2lkZSBOb3JtYWwudHRm.png',\n",
       " 'QmVhdG5pa0hheXNlZWQudHRm.png',\n",
       " 'QXBwbGUgR2FyYW1vbmQgQlQgQm9sZC50dGY=.png',\n",
       " 'QXVyaW9sTFRTdGQtQmxhY2tJdGFsaWMub3Rm.png',\n",
       " 'RGVzaWduZXJUaXRsaW5nQ2Fwcy50dGY=.png',\n",
       " 'Q2VudHVyeUlUQ0NvbmRlbnNlZEJRLUJvbGQub3Rm.png',\n",
       " 'QXJtYWRhLUxpZ2h0Q29tcHJlc3NlZC5vdGY=.png',\n",
       " 'Q2l0eSAoUikgTGlnaHQudHRm.png',\n",
       " 'RGlzY28gSW5mZXJuby50dGY=.png',\n",
       " 'RGFzaCBEb3QgQlJLLnR0Zg==.png',\n",
       " 'QmlnIEJhY29uIFRyeW91dC50dGY=.png',\n",
       " 'RmVuaWNlIEl0YWxpYy50dGY=.png',\n",
       " 'SGVsdmV0aWNhQ3lyLVVwcmlnaHQub3Rm.png',\n",
       " 'Q2dFZ2l6aWFub0JsLnR0Zg==.png',\n",
       " 'QmVsd2VFRi1Cb2xkQ29uZGVuc2VkLm90Zg==.png',\n",
       " 'Q29udGV4dCBTU2kgQm9sZCBJdGFsaWMudHRm.png',\n",
       " 'QXJpYWxNVFN0ZC1MaWdodEl0YWxpYy5vdGY=.png',\n",
       " 'Q29jb24tUmVndWxhci5vdGY=.png',\n",
       " 'RnJhbmtsaW5JVENCUS1EZW1pLm90Zg==.png',\n",
       " 'SGlzdG9yeSBSZXBlYXRpbmcgVmVydGljYWwudHRm.png',\n",
       " 'RkZGIENvc21vcyBDb25kZW5zZWQudHRm.png',\n",
       " 'QW1lcmljYW5UeXBld3JpdGVyTFQtTGlnaHRBLm90Zg==.png',\n",
       " 'Rmx5d2hlZWxTcXVhcmUudHRm.png',\n",
       " 'R290aGFtIE5pZ2h0cyBOb3JtYWwudHRm.png',\n",
       " 'R29yZ2lvIFdpZGUgQm9sZC50dGY=.png',\n",
       " 'Q29sbWNpbGxlTVRTdGQtUmVndWxhci5vdGY=.png',\n",
       " 'RHJhZ29uRUYtRXh0cmFMaWdodC5vdGY=.png',\n",
       " 'R3JvdGVzcXVlTVRTdGQtTGlnaHRJdGFsaWMub3Rm.png',\n",
       " 'Q2VudHVyeTczMUJULUJvbGRJdGFsaWNBLm90Zg==.png',\n",
       " 'RGF4LUJsYWNrLm90Zg==.png',\n",
       " 'RHJhZ29uLU1lZGl1bS5vdGY=.png',\n",
       " 'Q2FycmVOb2lyU3RkLUJvbGRJdGFsaWMub3Rm.png',\n",
       " 'RWNrbWFubkQudHRm.png',\n",
       " 'R2VvbWV0cjIxMiBCayBCVCBCb29rLnR0Zg==.png',\n",
       " 'Qm9kb25pU2l4SVRDU3RkLUJvbGQub3Rm.png',\n",
       " 'QmVldGhhbS1MaWdodC5vdGY=.png',\n",
       " 'RGVTdGlqbC50dGY=.png',\n",
       " 'Q2xpcXVlLVNlcmlmQm9sZE9ibGlxdWUub3Rm.png',\n",
       " 'QW1UeXBld3JpdGVyRUYtTGlnaHQub3Rm.png',\n",
       " 'Q2xhcmVuZG9uQlEtQmxhY2sub3Rm.png',\n",
       " 'QW1lcmljYW5hLUJvbGQub3Rm.png',\n",
       " 'RW5naW5lLUNhcHNJdGFsaWMub3Rm.png',\n",
       " 'MTFTMDEgQmxhY2sgVHVlc2RheSBPZmZzZXQudHRm.png',\n",
       " 'QmFza2VydmlsbGVCUS1JdGFsaWMub3Rm.png',\n",
       " 'RmVudG9uc0hhbmQgUmVndWxhci50dGY=.png',\n",
       " 'RG9vckphbWIudHRm.png',\n",
       " 'QmVybmhhcmQgTW9kZXJuIEJvbGQgSXRhbGljIEJULnR0Zg==.png',\n",
       " 'STJ0cmlndW5NYXhpbXVtIEUudHRm.png',\n",
       " 'Q29ycGlkQ2RMRi1MaWdodC5vdGY=.png',\n",
       " 'RHIgU3VnaXlhbWEudHRm.png',\n",
       " 'QXVndXN0YUNhbmNlbGxhcmVzY2FTdGQtUmVnLm90Zg==.png',\n",
       " 'SHVtYnVja2VyIE5hc3R5LnR0Zg==.png',\n",
       " 'Q2hlbHRlbmhhbSBJdGFsaWMucGZi.png',\n",
       " 'Qm9va21hbkJRLURlbWlCb2xkSXRhbGljLm90Zg==.png',\n",
       " 'RmFnb05vVGYtQm9sZENhcHMub3Rm.png',\n",
       " 'RnV0dXJhLUxpZ2h0T2JsaXF1ZS5vdGY=.png',\n",
       " 'RGVtb2NyYXRpY2FCb2xkT2xkc3R5bGUgQm9sZC50dGY=.png',\n",
       " 'RnJpeiBRdWFkcmF0YSBJdGMgVCBFRSBSZWd1bGFyLnBmYg==.png',\n",
       " 'Q2hlbHRlbmhhbU9sZFN0eWxlRUYub3Rm.png',\n",
       " 'Rm9saW8tQm9sZC5vdGY=.png',\n",
       " 'RWtsZWt0aWMtTm9ybWFsLUxpZ2h0LnR0Zg==.png',\n",
       " 'Q2Fyb2xzQ2h1bmtzLnR0Zg==.png',\n",
       " 'SVRDR2FyYW1vbmRTdGQtTHRJdGEub3Rm.png',\n",
       " 'QXZhbnRHYXJkRUYtRGVtaS5vdGY=.png',\n",
       " 'RmxvdHNhbSBTdGlmZiBVcHBlci50dGY=.png',\n",
       " 'SWNsZXJmYWNlLVhsaWdodC5vdGY=.png',\n",
       " 'RnJhbmNpcyBHb3RoaWMgRXh0ZW5kZWQgSXRhbGljLnR0Zg==.png',\n",
       " 'RHV0Y2ggODAxIEJvbGQgU1dBLnR0Zg==.png',\n",
       " 'Qm9kb25pIE1UIEl0YWxpYy50dGY=.png',\n",
       " 'RWlkZXRpY05lby1Cb2xkLm90Zg==.png',\n",
       " 'R2FyYW1vbmRQcmVtclByby1NZWRJdERpc3Aub3Rm.png',\n",
       " 'Q2FuZHkgU3F1YXJlIEJUTiBDb25kLnR0Zg==.png',\n",
       " 'RmFnb0NvLUV4dHJhQm9sZENhcHMub3Rm.png',\n",
       " 'Qnl0ZSBQb2xpY2UudHRm.png',\n",
       " 'Q2hhbmNlcnkgU2NyaXB0IE1lZGl1bSBTU2kgTWVkaXVtLnR0Zg==.png',\n",
       " 'Q3Jvbm9zUHJvLVJlZ3VsYXIub3Rm.png',\n",
       " 'RHluYW1lIEJsYWNrIFNTaSBCb2xkLnR0Zg==.png',\n",
       " 'QmF1ZXIgQm9kb25pIEJvbGQgQ29uZGVuc2VkIEJULnR0Zg==.png',\n",
       " 'QW1lcmljYW5UeXBld3JpdGVyQ29uQlEtQm9sZC5vdGY=.png',\n",
       " 'RWxlY3RyaWMgR29hdC50dGY=.png',\n",
       " 'RnJpelF1YWRyYXRhLUJvbGQub3Rm.png',\n",
       " 'Q2VudHVyeVNjaG9vbC5vdGY=.png',\n",
       " 'QnJpbmcgdGhhIG5vaXplLnR0Zg==.png',\n",
       " 'RnJhbmtSdWVobCgxKS50dGY=.png',\n",
       " 'QmFydCBIZWF2eSBOb3JtYWwudHRm.png',\n",
       " 'QW1wbGlmaWVyTGlnaHRTbWFsbENhcHMub3Rm.png',\n",
       " 'R291ZHkgT2xkIFN0eWxlIFQgRUUgRXh0cmEgQm9sZC5wZmI=.png',\n",
       " 'R2F6ZSBCb2xkLnR0Zg==.png',\n",
       " 'Q29yYmVpIFVuY2lhbC50dGY=.png',\n",
       " 'QXJpYWwgQ0UgQm9sZC50dGY=.png',\n",
       " 'RXZhbmdlbGljQm9sZC5vdGY=.png',\n",
       " 'QXRpbGxhIFdpZGUgTm9ybWFsLnR0Zg==.png',\n",
       " 'RnV0dXJhU3RkLUNvbmRlbnNlZC5vdGY=.png',\n",
       " 'R3JleWhvdW5kQm9sZEl0YWxpYy5vdGY=.png',\n",
       " 'Q29sdW1iaWEtQm9sZC5vdGY=.png',\n",
       " 'SGVhdGhlciBTY3JpcHQgVHdvLnR0Zg==.png',\n",
       " 'Q29tbWVyY2UgU1NpIFNlbWkgQm9sZC50dGY=.png',\n",
       " 'SGFtYnVyZy1EZW1pQm9sZC5vdGY=.png',\n",
       " 'RnV0dXJhVEVFLnR0Zg==.png',\n",
       " 'RGVsdGEtQm9va0l0YWxpYy5vdGY=.png',\n",
       " 'Q2FwdGFpbiBTaGluZXIudHRm.png',\n",
       " 'SVRDR2FyYW1vbmRTdGQtQmQub3Rm.png',\n",
       " 'Qm9kb25pQmVydGhvbGRCUS1Cb2xkSXRhbGljLm90Zg==.png',\n",
       " 'RmFnb0V4VGYtQm9sZC5vdGY=.png',\n",
       " 'Q2hpc2VsIFRoaW4gQm9sZCBJdGFsaWMudHRm.png',\n",
       " 'R290aGljQmxvbmQtU2xpbS5vdGY=.png',\n",
       " 'SGVybWFubiBJdGFsaWMudHRm.png',\n",
       " 'QWRhbXMgVGhpbiBJdGFsaWMudHRm.png',\n",
       " 'R2FyYW1vbmQtVGhpbi1JdGFsaWMudHRm.png',\n",
       " 'QWRyZW5hbGluZSBaZXJvLnR0Zg==.png',\n",
       " 'SHViYnViIFNTaSBCb2xkLnR0Zg==.png',\n",
       " 'QmFyY29vbC50dGY=.png',\n",
       " 'Q2VudHVyeSA3MzEgQm9sZC5wZmI=.png',\n",
       " 'RkZGIEludGVyZmFjZTAxYi50dGY=.png',\n",
       " 'RHVzdFBpZWNlLm90Zg==.png',\n",
       " 'R2hvdWx5Qm9vbHkudHRm.png',\n",
       " 'SVRDIEdhcmFtb25kIEJvb2sgQ29uZGVuc2VkLnBmYg==.png',\n",
       " 'R3JlZWsgSXRhbGljLnR0Zg==.png',\n",
       " 'RXJhcyBVbHRyYSBCVC50dGY=.png',\n",
       " 'Qmlqb3V4LUJvbGQub3Rm.png',\n",
       " 'RmFnb05vVGYtRXh0cmFCb2xkSXRhbGljLm90Zg==.png',\n",
       " 'SGFsYnN0YXJrZSBQaWNhLnR0Zg==.png',\n",
       " 'Q2VudHVyeUlUQ0JRLUJvb2tJdGFsaWMub3Rm.png',\n",
       " 'R2Fycmlzb24gTGlnaHQgU2Fucy50dGY=.png',\n",
       " 'QnJhbmRvIEJvbGRJdGFsaWMudHRm.png',\n",
       " 'QWxsdXJlQm9sZEFsdFNwYWNlLm90Zg==.png',\n",
       " 'Q2hyaXN0bWFzR2lmdFNjcmlwdEJvbGRBLnR0Zg==.png',\n",
       " 'Q2FzdWFsLnR0Zg==.png',\n",
       " 'QUplbnNvblByby1Cb2xkLm90Zg==.png',\n",
       " 'QnJhbmRvIENvbmRlbnNlZCBOb3JtYWwudHRm.png',\n",
       " 'QmFyYmVyUG9sZSBSZWd1bGFyLnR0Zg==.png',\n",
       " 'RWxlY3RyaWMgSGVybWVzIEFPRS50dGY=.png',\n",
       " 'RHluYW1vUkl0YWxpY1Iub3Rm.png',\n",
       " 'SGlwSG9wRGVtaS50dGY=.png',\n",
       " 'Q2FuYWRpYW5QaG90b2dyYXBoZXIub3Rm.png',\n",
       " 'Q29uY29yZGlhU1NLIEJvbGQudHRm.png',\n",
       " 'Q2FsdmVydE1ULm90Zg==.png',\n",
       " 'RXhwb3NpdGlvbiBCbGFjayBTU2kgQmxhY2sgSXRhbGljLnR0Zg==.png',\n",
       " 'Q2hpbGQncyBQbGF5LnR0Zg==.png',\n",
       " 'RXhwcmVzc2FFRi1EZW1pQm9sZC5vdGY=.png',\n",
       " 'RW5ncmF2ZXJzRC50dGY=.png',\n",
       " 'Q2FiYXJnYUN1cnNJQ0cub3Rm.png',\n",
       " 'QmFzZU1vbm9XaWRlVGhpbiBSZWd1bGFyLnR0Zg==.png',\n",
       " 'QmFuZ2xlIENvbmRlbnNlZCBCb2xkIEl0YWxpYy50dGY=.png',\n",
       " 'QW1lcmljYW5hU3RkLUJvbGQub3Rm.png',\n",
       " 'SGFtYnVyZy1NZWRpdW0ub3Rm.png',\n",
       " 'Q29ycG9yYXRlIEhRLnR0Zg==.png',\n",
       " 'RnJhbmtsaW5Hb3RoaWNMVC1EZW1pQ25kLm90Zg==.png',\n",
       " 'Q2hlbHRlbmhhbS1Cb2xkQ29uZEl0YWxpYy5vdGY=.png',\n",
       " 'Rm9vdGxpZ2h0TVRTdGQtSXRhbGljLm90Zg==.png',\n",
       " 'Qmxpc3MgRXh0ZW5kZWQgTm9ybWFsLnR0Zg==.png',\n",
       " 'SGVsaW5kYVJvb2tTdGQub3Rm.png',\n",
       " 'QXJteSBFeHBhbmRlZC50dGY=.png',\n",
       " 'RE5lYWxpYW5SZWd1bGFyLnR0Zg==.png',\n",
       " 'Q2hlbHRlbmhhbUFURk9sZHN0eWxlQlEtSXRhbGljLm90Zg==.png',\n",
       " 'Q2FzbG9uQm9vay5vdGY=.png',\n",
       " 'Q2FsaXBlciBXaWRlLnR0Zg==.png',\n",
       " 'R2FyYW1vbmRCb29rQy5vdGY=.png',\n",
       " 'QmF1aGF1c0l0Y1RFRUJvbC50dGY=.png',\n",
       " 'Q2FlY2lsaWFMVFN0ZC1MaWdodC5vdGY=.png',\n",
       " 'QmVybmhhcmQgTW9kZXJuIEJULnR0Zg==.png',\n",
       " 'RkZYIFRpbWVzIEVuZ3JhdmVkLnR0Zg==.png',\n",
       " 'QWlybGluZS5vdGY=.png',\n",
       " 'Q29taWNCb29rLm90Zg==.png',\n",
       " 'RHJhZ29uLUJvbGRJdGEub3Rm.png',\n",
       " 'QUdSZXZ1ZUN5ciBSb21hbiBNZWRpdW0udHRm.png',\n",
       " 'Q2hpc2VsIFdpZGUgSXRhbGljLnR0Zg==.png',\n",
       " 'RWxlZ2FHYXJtbmQgQlQgSXRhbGljLnR0Zg==.png',\n",
       " 'Q2hlbHRlbmhtIEJUIEl0YWxpYy50dGY=.png',\n",
       " 'RXVwaG9yaWMgM0QgQlJLLnR0Zg==.png',\n",
       " 'Q2VudHVyeVNjaG9vbGJvb2tCVC1Sb21hbi5vdGY=.png',\n",
       " 'RGVlcGRlbmVILm90Zg==.png',\n",
       " 'Q2F4dG9uIEJvbGQgSXRhbGljLnBmYg==.png',\n",
       " 'QW5uYWJlbGxlIEpGLnR0Zg==.png',\n",
       " 'RmVsdGhnb3RoaWMtQm9sZEl0YWxpYy5vdGY=.png',\n",
       " 'RG9scGhpbiBUaGluIEJvbGQudHRm.png',\n",
       " 'RnJhbmtsaW4gR290aGljIENvbmRlbnNlZCBCVC50dGY=.png',\n",
       " 'RmVkZXJhdGlvbkh1bGwudHRm.png',\n",
       " 'Q29zdGFQdGYtRGVtaS5vdGY=.png',\n",
       " 'RnV0dXJhQlEtQm9sZE91dGxpbmUub3Rm.png',\n",
       " 'RXJhcyBJdGMgVCBFRSBNZWRpdW0ucGZi.png',\n",
       " 'SElBSVJQT1JUREVQQVJUVVJFLnR0Zg==.png',\n",
       " 'RlogQkFTSUMgMTIudHRm.png',\n",
       " 'RW5ncmF2ZWQgQ29uZGVuc2VkIE5vcm1hbC50dGY=.png',\n",
       " 'Q2FzbG9uVHdvVHdlbnR5Rm91ckJRLU1lZGl1bS5vdGY=.png',\n",
       " 'QnJpZGdub3J0aF9CbG9ja2VkLnR0Zg==.png',\n",
       " 'QmVsbENlbnRlbm5pYWwtTmFtZUFuZE51bWJlci5vdGY=.png',\n",
       " 'QXV0bzEtSXRhbGljTEYudHRm.png',\n",
       " 'R2Vyc3RuZXJCUS1Cb2xkSXRhbGljLm90Zg==.png',\n",
       " 'QmVsbGhvcE5GLnR0Zg==.png',\n",
       " 'RGVjRXBpY3VyZS5vdGY=.png',\n",
       " 'R2VvIENvbmRlbnNlZCBCb2xkLnR0Zg==.png',\n",
       " 'SWNvbmUgTFQgTGlnaHQgSXRhbGljIE9zRi50dGY=.png',\n",
       " 'RmVuaWNlRUYtVWx0cmFJdGFsaWMub3Rm.png',\n",
       " 'RG9udGVGb250LnR0Zg==.png',\n",
       " 'Q2hlbHRlbmhhbUlUQ2J5QlQtQm9va0l0YWxpYy5vdGY=.png',\n",
       " 'R3JlY28gVGVuIFNTaSBJdGFsaWMudHRm.png',\n",
       " 'Q2xlYXJseSBHb3RoaWMgSGVhdnkgSXRhbGljLnR0Zg==.png',\n",
       " 'RGVtb3NFRi1TZW1pQm9sZC5vdGY=.png',\n",
       " 'QnVsbWVyTVQtQm9sZERpc3BsYXkub3Rm.png',\n",
       " 'SGFuZHdyaXRlIFJlZ3VsYXIudHRm.png',\n",
       " 'QXJpYWwgSEMudHRm.png',\n",
       " 'R2lvdmFubmlTdGQtQm9vay5vdGY=.png',\n",
       " 'RWNsaXB0aWMgQlJLLnR0Zg==.png',\n",
       " 'QWRpbmVLaXJuYmVyZyBSZWd1bGFyKDEpLnR0Zg==.png',\n",
       " 'SVRDIEdvdWR5IFNhbnMgTWVkaXVtLnBmYg==.png',\n",
       " 'R291ZHkgU3RvdXQudHRm.png',\n",
       " 'RW5nbGlzY2hlU2NocmVpYnNjaHJpZnRCUS1Cb2xkLm90Zg==.png',\n",
       " 'RXJhc2VyRHVzdCBSZWd1bGFyLnR0Zg==.png',\n",
       " 'SGFyZFRpbWVzUmVndWxhci5vdGY=.png',\n",
       " 'Q2hlbHRlbmhhbS1VbHRyYUNvbmQub3Rm.png',\n",
       " 'Q291cmllcjEwIEJUIEl0YWxpYy50dGY=.png',\n",
       " 'QmFja3RhbGtTZXJpZiBCVE4gU0MgQm9sZE9ibGlxdWUudHRm.png',\n",
       " 'Rml0enJveSBJdGFsaWMudHRm.png',\n",
       " 'Q2VudHVyeVNjaG9vbGJvb2tFRi1Cb2wub3Rm.png',\n",
       " 'SGVsdmV0aWNhTmV1ZS1UaGluLm90Zg==.png',\n",
       " 'RW5nZWJyZWNodHJlIEV4cGFuZGVkIEJvbGQudHRm.png',\n",
       " 'Q0sgUGluay50dGY=.png',\n",
       " 'QWFyb25Cb2xkLnR0Zg==.png',\n",
       " 'MTAuMTUgU2F0dXJkYXkgTmlnaHQgQlJLLnR0Zg==.png',\n",
       " ...]"
      ]
     },
     "execution_count": 15,
     "metadata": {},
     "output_type": "execute_result"
    }
   ],
   "source": [
    "fn = os.listdir(\"notMNIST_small/A/\")\n",
    "fn"
   ]
  },
  {
   "cell_type": "code",
   "execution_count": 16,
   "metadata": {},
   "outputs": [
    {
     "data": {
      "image/png": "[encoded data removed]",
      "text/plain": [
       "<IPython.core.display.Image object>"
      ]
     },
     "metadata": {},
     "output_type": "display_data"
    },
    {
     "data": {
      "image/png": "[encoded data removed]",
      "text/plain": [
       "<IPython.core.display.Image object>"
      ]
     },
     "metadata": {},
     "output_type": "display_data"
    },
    {
     "data": {
      "image/png": "[encoded data removed]",
      "text/plain": [
       "<IPython.core.display.Image object>"
      ]
     },
     "metadata": {},
     "output_type": "display_data"
    },
    {
     "data": {
      "image/png": "[encoded data removed]",
      "text/plain": [
       "<IPython.core.display.Image object>"
      ]
     },
     "metadata": {},
     "output_type": "display_data"
    },
    {
     "data": {
      "image/png": "[encoded data removed]",
      "text/plain": [
       "<IPython.core.display.Image object>"
      ]
     },
     "metadata": {},
     "output_type": "display_data"
    },
    {
     "data": {
      "image/png": "[encoded data removed]",
      "text/plain": [
       "<IPython.core.display.Image object>"
      ]
     },
     "metadata": {},
     "output_type": "display_data"
    },
    {
     "data": {
      "image/png": "[encoded data removed]",
      "text/plain": [
       "<IPython.core.display.Image object>"
      ]
     },
     "metadata": {},
     "output_type": "display_data"
    },
    {
     "data": {
      "image/png": "[encoded data removed]",
      "text/plain": [
       "<IPython.core.display.Image object>"
      ]
     },
     "metadata": {},
     "output_type": "display_data"
    },
    {
     "data": {
      "image/png": "[encoded data removed]",
      "text/plain": [
       "<IPython.core.display.Image object>"
      ]
     },
     "metadata": {},
     "output_type": "display_data"
    },
    {
     "data": {
      "image/png": "[encoded data removed]",
      "text/plain": [
       "<IPython.core.display.Image object>"
      ]
     },
     "metadata": {},
     "output_type": "display_data"
    },
    {
     "data": {
      "image/png": "[encoded data removed]",
      "text/plain": [
       "<IPython.core.display.Image object>"
      ]
     },
     "metadata": {},
     "output_type": "display_data"
    },
    {
     "data": {
      "image/png": "[encoded data removed]",
      "text/plain": [
       "<IPython.core.display.Image object>"
      ]
     },
     "metadata": {},
     "output_type": "display_data"
    },
    {
     "data": {
      "image/png": "[encoded data removed]",
      "text/plain": [
       "<IPython.core.display.Image object>"
      ]
     },
     "metadata": {},
     "output_type": "display_data"
    },
    {
     "data": {
      "image/png": "[encoded data removed]",
      "text/plain": [
       "<IPython.core.display.Image object>"
      ]
     },
     "metadata": {},
     "output_type": "display_data"
    },
    {
     "data": {
      "image/png": "[encoded data removed]",
      "text/plain": [
       "<IPython.core.display.Image object>"
      ]
     },
     "metadata": {},
     "output_type": "display_data"
    },
    {
     "data": {
      "image/png": "[encoded data removed]",
      "text/plain": [
       "<IPython.core.display.Image object>"
      ]
     },
     "metadata": {},
     "output_type": "display_data"
    },
    {
     "data": {
      "image/png": "[encoded data removed]",
      "text/plain": [
       "<IPython.core.display.Image object>"
      ]
     },
     "metadata": {},
     "output_type": "display_data"
    },
    {
     "data": {
      "image/png": "[encoded data removed]",
      "text/plain": [
       "<IPython.core.display.Image object>"
      ]
     },
     "metadata": {},
     "output_type": "display_data"
    },
    {
     "data": {
      "image/png": "[encoded data removed]",
      "text/plain": [
       "<IPython.core.display.Image object>"
      ]
     },
     "metadata": {},
     "output_type": "display_data"
    },
    {
     "data": {
      "image/png": "[encoded data removed]",
      "text/plain": [
       "<IPython.core.display.Image object>"
      ]
     },
     "metadata": {},
     "output_type": "display_data"
    },
    {
     "data": {
      "image/png": "[encoded data removed]",
      "text/plain": [
       "<IPython.core.display.Image object>"
      ]
     },
     "metadata": {},
     "output_type": "display_data"
    },
    {
     "data": {
      "image/png": "[encoded data removed]",
      "text/plain": [
       "<IPython.core.display.Image object>"
      ]
     },
     "metadata": {},
     "output_type": "display_data"
    },
    {
     "data": {
      "image/png": "[encoded data removed]",
      "text/plain": [
       "<IPython.core.display.Image object>"
      ]
     },
     "metadata": {},
     "output_type": "display_data"
    },
    {
     "data": {
      "image/png": "[encoded data removed]",
      "text/plain": [
       "<IPython.core.display.Image object>"
      ]
     },
     "metadata": {},
     "output_type": "display_data"
    },
    {
     "data": {
      "image/png": "[encoded data removed]",
      "text/plain": [
       "<IPython.core.display.Image object>"
      ]
     },
     "metadata": {},
     "output_type": "display_data"
    },
    {
     "data": {
      "image/png": "[encoded data removed]",
      "text/plain": [
       "<IPython.core.display.Image object>"
      ]
     },
     "metadata": {},
     "output_type": "display_data"
    },
    {
     "data": {
      "image/png": "[encoded data removed]",
      "text/plain": [
       "<IPython.core.display.Image object>"
      ]
     },
     "metadata": {},
     "output_type": "display_data"
    },
    {
     "data": {
      "image/png": "[encoded data removed]",
      "text/plain": [
       "<IPython.core.display.Image object>"
      ]
     },
     "metadata": {},
     "output_type": "display_data"
    },
    {
     "data": {
      "image/png": "[encoded data removed]",
      "text/plain": [
       "<IPython.core.display.Image object>"
      ]
     },
     "metadata": {},
     "output_type": "display_data"
    },
    {
     "data": {
      "image/png": "[encoded data removed]",
      "text/plain": [
       "<IPython.core.display.Image object>"
      ]
     },
     "metadata": {},
     "output_type": "display_data"
    },
    {
     "data": {
      "image/png": "[encoded data removed]",
      "text/plain": [
       "<IPython.core.display.Image object>"
      ]
     },
     "metadata": {},
     "output_type": "display_data"
    },
    {
     "data": {
      "image/png": "[encoded data removed]",
      "text/plain": [
       "<IPython.core.display.Image object>"
      ]
     },
     "metadata": {},
     "output_type": "display_data"
    },
    {
     "data": {
      "image/png": "[encoded data removed]",
      "text/plain": [
       "<IPython.core.display.Image object>"
      ]
     },
     "metadata": {},
     "output_type": "display_data"
    },
    {
     "data": {
      "image/png": "[encoded data removed]",
      "text/plain": [
       "<IPython.core.display.Image object>"
      ]
     },
     "metadata": {},
     "output_type": "display_data"
    },
    {
     "data": {
      "image/png": "[encoded data removed]",
      "text/plain": [
       "<IPython.core.display.Image object>"
      ]
     },
     "metadata": {},
     "output_type": "display_data"
    },
    {
     "data": {
      "image/png": "[encoded data removed]",
      "text/plain": [
       "<IPython.core.display.Image object>"
      ]
     },
     "metadata": {},
     "output_type": "display_data"
    },
    {
     "data": {
      "image/png": "[encoded data removed]",
      "text/plain": [
       "<IPython.core.display.Image object>"
      ]
     },
     "metadata": {},
     "output_type": "display_data"
    },
    {
     "data": {
      "image/png": "[encoded data removed]",
      "text/plain": [
       "<IPython.core.display.Image object>"
      ]
     },
     "metadata": {},
     "output_type": "display_data"
    },
    {
     "data": {
      "image/png": "[encoded data removed]",
      "text/plain": [
       "<IPython.core.display.Image object>"
      ]
     },
     "metadata": {},
     "output_type": "display_data"
    },
    {
     "data": {
      "image/png": "[encoded data removed]",
      "text/plain": [
       "<IPython.core.display.Image object>"
      ]
     },
     "metadata": {},
     "output_type": "display_data"
    },
    {
     "data": {
      "image/png": "[encoded data removed]",
      "text/plain": [
       "<IPython.core.display.Image object>"
      ]
     },
     "metadata": {},
     "output_type": "display_data"
    },
    {
     "data": {
      "image/png": "[encoded data removed]",
      "text/plain": [
       "<IPython.core.display.Image object>"
      ]
     },
     "metadata": {},
     "output_type": "display_data"
    },
    {
     "data": {
      "image/png": "[encoded data removed]",
      "text/plain": [
       "<IPython.core.display.Image object>"
      ]
     },
     "metadata": {},
     "output_type": "display_data"
    },
    {
     "data": {
      "image/png": "[encoded data removed]",
      "text/plain": [
       "<IPython.core.display.Image object>"
      ]
     },
     "metadata": {},
     "output_type": "display_data"
    },
    {
     "data": {
      "image/png": "[encoded data removed]",
      "text/plain": [
       "<IPython.core.display.Image object>"
      ]
     },
     "metadata": {},
     "output_type": "display_data"
    },
    {
     "data": {
      "image/png": "[encoded data removed]",
      "text/plain": [
       "<IPython.core.display.Image object>"
      ]
     },
     "metadata": {},
     "output_type": "display_data"
    },
    {
     "data": {
      "image/png": "[encoded data removed]",
      "text/plain": [
       "<IPython.core.display.Image object>"
      ]
     },
     "metadata": {},
     "output_type": "display_data"
    },
    {
     "data": {
      "image/png": "[encoded data removed]",
      "text/plain": [
       "<IPython.core.display.Image object>"
      ]
     },
     "metadata": {},
     "output_type": "display_data"
    },
    {
     "data": {
      "image/png": "[encoded data removed]",
      "text/plain": [
       "<IPython.core.display.Image object>"
      ]
     },
     "metadata": {},
     "output_type": "display_data"
    },
    {
     "data": {
      "image/png": "[encoded data removed]",
      "text/plain": [
       "<IPython.core.display.Image object>"
      ]
     },
     "metadata": {},
     "output_type": "display_data"
    },
    {
     "data": {
      "image/png": "[encoded data removed]",
      "text/plain": [
       "<IPython.core.display.Image object>"
      ]
     },
     "metadata": {},
     "output_type": "display_data"
    },
    {
     "data": {
      "image/png": "[encoded data removed]",
      "text/plain": [
       "<IPython.core.display.Image object>"
      ]
     },
     "metadata": {},
     "output_type": "display_data"
    },
    {
     "data": {
      "image/png": "[encoded data removed]",
      "text/plain": [
       "<IPython.core.display.Image object>"
      ]
     },
     "metadata": {},
     "output_type": "display_data"
    },
    {
     "data": {
      "image/png": "[encoded data removed]",
      "text/plain": [
       "<IPython.core.display.Image object>"
      ]
     },
     "metadata": {},
     "output_type": "display_data"
    },
    {
     "data": {
      "image/png": "[encoded data removed]",
      "text/plain": [
       "<IPython.core.display.Image object>"
      ]
     },
     "metadata": {},
     "output_type": "display_data"
    },
    {
     "data": {
      "image/png": "[encoded data removed]",
      "text/plain": [
       "<IPython.core.display.Image object>"
      ]
     },
     "metadata": {},
     "output_type": "display_data"
    },
    {
     "data": {
      "image/png": "[encoded data removed]",
      "text/plain": [
       "<IPython.core.display.Image object>"
      ]
     },
     "metadata": {},
     "output_type": "display_data"
    },
    {
     "data": {
      "image/png": "[encoded data removed]",
      "text/plain": [
       "<IPython.core.display.Image object>"
      ]
     },
     "metadata": {},
     "output_type": "display_data"
    },
    {
     "data": {
      "image/png": "[encoded data removed]",
      "text/plain": [
       "<IPython.core.display.Image object>"
      ]
     },
     "metadata": {},
     "output_type": "display_data"
    },
    {
     "data": {
      "image/png": "[encoded data removed]",
      "text/plain": [
       "<IPython.core.display.Image object>"
      ]
     },
     "metadata": {},
     "output_type": "display_data"
    },
    {
     "data": {
      "image/png": "[encoded data removed]",
      "text/plain": [
       "<IPython.core.display.Image object>"
      ]
     },
     "metadata": {},
     "output_type": "display_data"
    },
    {
     "data": {
      "image/png": "[encoded data removed]",
      "text/plain": [
       "<IPython.core.display.Image object>"
      ]
     },
     "metadata": {},
     "output_type": "display_data"
    },
    {
     "data": {
      "image/png": "[encoded data removed]",
      "text/plain": [
       "<IPython.core.display.Image object>"
      ]
     },
     "metadata": {},
     "output_type": "display_data"
    },
    {
     "data": {
      "image/png": "[encoded data removed]",
      "text/plain": [
       "<IPython.core.display.Image object>"
      ]
     },
     "metadata": {},
     "output_type": "display_data"
    },
    {
     "data": {
      "image/png": "[encoded data removed]",
      "text/plain": [
       "<IPython.core.display.Image object>"
      ]
     },
     "metadata": {},
     "output_type": "display_data"
    },
    {
     "data": {
      "image/png": "[encoded data removed]",
      "text/plain": [
       "<IPython.core.display.Image object>"
      ]
     },
     "metadata": {},
     "output_type": "display_data"
    },
    {
     "data": {
      "image/png": "[encoded data removed]",
      "text/plain": [
       "<IPython.core.display.Image object>"
      ]
     },
     "metadata": {},
     "output_type": "display_data"
    },
    {
     "data": {
      "image/png": "[encoded data removed]",
      "text/plain": [
       "<IPython.core.display.Image object>"
      ]
     },
     "metadata": {},
     "output_type": "display_data"
    },
    {
     "data": {
      "image/png": "[encoded data removed]",
      "text/plain": [
       "<IPython.core.display.Image object>"
      ]
     },
     "metadata": {},
     "output_type": "display_data"
    },
    {
     "data": {
      "image/png": "[encoded data removed]",
      "text/plain": [
       "<IPython.core.display.Image object>"
      ]
     },
     "metadata": {},
     "output_type": "display_data"
    },
    {
     "data": {
      "image/png": "[encoded data removed]",
      "text/plain": [
       "<IPython.core.display.Image object>"
      ]
     },
     "metadata": {},
     "output_type": "display_data"
    },
    {
     "data": {
      "image/png": "[encoded data removed]",
      "text/plain": [
       "<IPython.core.display.Image object>"
      ]
     },
     "metadata": {},
     "output_type": "display_data"
    },
    {
     "data": {
      "image/png": "[encoded data removed]",
      "text/plain": [
       "<IPython.core.display.Image object>"
      ]
     },
     "metadata": {},
     "output_type": "display_data"
    },
    {
     "data": {
      "image/png": "[encoded data removed]",
      "text/plain": [
       "<IPython.core.display.Image object>"
      ]
     },
     "metadata": {},
     "output_type": "display_data"
    },
    {
     "data": {
      "image/png": "[encoded data removed]",
      "text/plain": [
       "<IPython.core.display.Image object>"
      ]
     },
     "metadata": {},
     "output_type": "display_data"
    },
    {
     "data": {
      "image/png": "[encoded data removed]",
      "text/plain": [
       "<IPython.core.display.Image object>"
      ]
     },
     "metadata": {},
     "output_type": "display_data"
    },
    {
     "data": {
      "image/png": "[encoded data removed]",
      "text/plain": [
       "<IPython.core.display.Image object>"
      ]
     },
     "metadata": {},
     "output_type": "display_data"
    },
    {
     "data": {
      "image/png": "[encoded data removed]",
      "text/plain": [
       "<IPython.core.display.Image object>"
      ]
     },
     "metadata": {},
     "output_type": "display_data"
    },
    {
     "data": {
      "image/png": "[encoded data removed]",
      "text/plain": [
       "<IPython.core.display.Image object>"
      ]
     },
     "metadata": {},
     "output_type": "display_data"
    },
    {
     "data": {
      "image/png": "[encoded data removed]",
      "text/plain": [
       "<IPython.core.display.Image object>"
      ]
     },
     "metadata": {},
     "output_type": "display_data"
    },
    {
     "data": {
      "image/png": "[encoded data removed]",
      "text/plain": [
       "<IPython.core.display.Image object>"
      ]
     },
     "metadata": {},
     "output_type": "display_data"
    },
    {
     "data": {
      "image/png": "[encoded data removed]",
      "text/plain": [
       "<IPython.core.display.Image object>"
      ]
     },
     "metadata": {},
     "output_type": "display_data"
    },
    {
     "data": {
      "image/png": "[encoded data removed]",
      "text/plain": [
       "<IPython.core.display.Image object>"
      ]
     },
     "metadata": {},
     "output_type": "display_data"
    },
    {
     "data": {
      "image/png": "[encoded data removed]",
      "text/plain": [
       "<IPython.core.display.Image object>"
      ]
     },
     "metadata": {},
     "output_type": "display_data"
    },
    {
     "data": {
      "image/png": "[encoded data removed]",
      "text/plain": [
       "<IPython.core.display.Image object>"
      ]
     },
     "metadata": {},
     "output_type": "display_data"
    },
    {
     "data": {
      "image/png": "[encoded data removed]",
      "text/plain": [
       "<IPython.core.display.Image object>"
      ]
     },
     "metadata": {},
     "output_type": "display_data"
    },
    {
     "data": {
      "image/png": "[encoded data removed]",
      "text/plain": [
       "<IPython.core.display.Image object>"
      ]
     },
     "metadata": {},
     "output_type": "display_data"
    },
    {
     "data": {
      "image/png": "[encoded data removed]",
      "text/plain": [
       "<IPython.core.display.Image object>"
      ]
     },
     "metadata": {},
     "output_type": "display_data"
    },
    {
     "data": {
      "image/png": "[encoded data removed]",
      "text/plain": [
       "<IPython.core.display.Image object>"
      ]
     },
     "metadata": {},
     "output_type": "display_data"
    },
    {
     "data": {
      "image/png": "[encoded data removed]",
      "text/plain": [
       "<IPython.core.display.Image object>"
      ]
     },
     "metadata": {},
     "output_type": "display_data"
    },
    {
     "data": {
      "image/png": "[encoded data removed]",
      "text/plain": [
       "<IPython.core.display.Image object>"
      ]
     },
     "metadata": {},
     "output_type": "display_data"
    },
    {
     "data": {
      "image/png": "[encoded data removed]",
      "text/plain": [
       "<IPython.core.display.Image object>"
      ]
     },
     "metadata": {},
     "output_type": "display_data"
    },
    {
     "data": {
      "image/png": "[encoded data removed]",
      "text/plain": [
       "<IPython.core.display.Image object>"
      ]
     },
     "metadata": {},
     "output_type": "display_data"
    },
    {
     "data": {
      "image/png": "[encoded data removed]",
      "text/plain": [
       "<IPython.core.display.Image object>"
      ]
     },
     "metadata": {},
     "output_type": "display_data"
    },
    {
     "data": {
      "image/png": "[encoded data removed]",
      "text/plain": [
       "<IPython.core.display.Image object>"
      ]
     },
     "metadata": {},
     "output_type": "display_data"
    },
    {
     "data": {
      "image/png": "[encoded data removed]",
      "text/plain": [
       "<IPython.core.display.Image object>"
      ]
     },
     "metadata": {},
     "output_type": "display_data"
    },
    {
     "data": {
      "image/png": "[encoded data removed]",
      "text/plain": [
       "<IPython.core.display.Image object>"
      ]
     },
     "metadata": {},
     "output_type": "display_data"
    },
    {
     "data": {
      "image/png": "[encoded data removed]",
      "text/plain": [
       "<IPython.core.display.Image object>"
      ]
     },
     "metadata": {},
     "output_type": "display_data"
    },
    {
     "data": {
      "image/png": "[encoded data removed]",
      "text/plain": [
       "<IPython.core.display.Image object>"
      ]
     },
     "metadata": {},
     "output_type": "display_data"
    },
    {
     "data": {
      "image/png": "[encoded data removed]",
      "text/plain": [
       "<IPython.core.display.Image object>"
      ]
     },
     "metadata": {},
     "output_type": "display_data"
    }
   ],
   "source": [
    "for file in fn[:100]:\n",
    "    path = 'notMNIST_small/A/' + file\n",
    "    display(Image(path))\n"
   ]
  },
  {
   "cell_type": "code",
   "execution_count": 17,
   "metadata": {},
   "outputs": [
    {
     "data": {
      "text/plain": [
       "(200000, 28, 28)"
      ]
     },
     "execution_count": 17,
     "metadata": {},
     "output_type": "execute_result"
    }
   ],
   "source": [
    "train_dataset.shape\n"
   ]
  },
  {
   "cell_type": "code",
   "execution_count": 25,
   "metadata": {},
   "outputs": [
    {
     "data": {
      "text/plain": [
       "(10000, 28, 28)"
      ]
     },
     "execution_count": 25,
     "metadata": {},
     "output_type": "execute_result"
    }
   ],
   "source": [
    "test_dataset.shape"
   ]
  },
  {
   "cell_type": "code",
   "execution_count": 19,
   "metadata": {
    "collapsed": true
   },
   "outputs": [],
   "source": [
    "#Training data\n",
    "samples, width, height = train_dataset.shape\n",
    "X_train = np.reshape(train_dataset,(samples,width*height))\n",
    "y_train = train_labels\n",
    "\n",
    "#Testing data\n",
    "samples,width, height = test_dataset.shape\n",
    "X_test = np.reshape(test_dataset,(samples,width*height))\n",
    "y_test = test_labels"
   ]
  },
  {
   "cell_type": "code",
   "execution_count": 23,
   "metadata": {},
   "outputs": [
    {
     "name": "stdout",
     "output_type": "stream",
     "text": [
      "Training score =  0.83261\n",
      "Test score =  0.8892\n"
     ]
    }
   ],
   "source": [
    "from sklearn.linear_model import LogisticRegression\n",
    "\n",
    "lg = LogisticRegression(penalty='l2', C = 1.0)\n",
    "lg.fit(X_train, y_train)\n",
    "train_score = lg.score(X_train,y_train)\n",
    "test_score = lg.score(X_test,y_test)\n",
    "print('Training score = ', train_score)\n",
    "print('Test score = ', test_score)"
   ]
  },
  {
   "cell_type": "code",
   "execution_count": 26,
   "metadata": {},
   "outputs": [
    {
     "name": "stderr",
     "output_type": "stream",
     "text": [
      "[Parallel(n_jobs=-1)]: Done   1 out of   1 | elapsed: 28.7min finished\n"
     ]
    },
    {
     "data": {
      "text/plain": [
       "0.89649999999999996"
      ]
     },
     "execution_count": 26,
     "metadata": {},
     "output_type": "execute_result"
    }
   ],
   "source": [
    "from sklearn.linear_model import LogisticRegression\n",
    "\n",
    "# Instantiate\n",
    "lg = LogisticRegression(multi_class='multinomial', solver='lbfgs', random_state=42, verbose=1, max_iter=1000, n_jobs=-1)\n",
    "\n",
    "# Fit\n",
    "lg.fit(X_train, y_train)\n",
    "\n",
    "# Predict\n",
    "y_pred = lg.predict(X_test)\n",
    "\n",
    "# Score\n",
    "from sklearn import metrics\n",
    "metrics.accuracy_score(y_test, y_pred)"
   ]
  },
  {
   "cell_type": "code",
   "execution_count": null,
   "metadata": {
    "collapsed": true
   },
   "outputs": [],
   "source": []
  }
 ],
 "metadata": {
  "kernelspec": {
   "display_name": "Python 3",
   "language": "python",
   "name": "python3"
  },
  "language_info": {
   "codemirror_mode": {
    "name": "ipython",
    "version": 3
   },
   "file_extension": ".py",
   "mimetype": "text/x-python",
   "name": "python",
   "nbconvert_exporter": "python",
   "pygments_lexer": "ipython3",
   "version": "3.5.2"
  }
 },
 "nbformat": 4,
 "nbformat_minor": 2
}
